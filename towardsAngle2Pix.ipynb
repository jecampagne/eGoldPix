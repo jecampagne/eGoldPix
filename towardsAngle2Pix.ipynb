{
 "cells": [
  {
   "cell_type": "code",
   "execution_count": 1,
   "metadata": {},
   "outputs": [
    {
     "name": "stdout",
     "output_type": "stream",
     "text": [
      "Using matplotlib backend: TkAgg\n"
     ]
    }
   ],
   "source": [
    "import numpy as np\n",
    "import matplotlib.pyplot as plt\n",
    "from mpl_toolkits.mplot3d import Axes3D  # noqa: F401 unused import\n",
    "from mpl_toolkits.mplot3d.art3d import Poly3DCollection\n",
    "import matplotlib.cm as cm\n",
    "\n",
    "from math import sin,cos,acos,sqrt,pi, atan2\n",
    "\n",
    "import pandas as pd\n",
    "from iteration_utilities import flatten\n",
    "%matplotlib\n",
    "\n",
    "from scipy import stats"
   ]
  },
  {
   "cell_type": "code",
   "execution_count": 2,
   "metadata": {},
   "outputs": [],
   "source": [
    "# barycentric coords for triangle (-0.5,0),(0.5,0),(0,sqrt(3)/2)\n",
    "def barycentricCoords(p):\n",
    "    '''\n",
    "        input: 'p'is are the position vector of the form [x,y]'. \n",
    "        output: l1,l2,l3 are the barycentric co-ordsinates.\n",
    "    \n",
    "        ex:\n",
    "        barycentricCoords([1,2])\n",
    "        (-1.6547005383792517, 0.3452994616207483, 2.3094010767585034)\n",
    "        \n",
    "        D'une maniere generale\n",
    "        p1=(x1,y1), p2=(x2,y2) p3=(x3,y3)\n",
    "        T= [[x1-x3,x2-x3],[y1-y3,y2-y3]]\n",
    "        (l1,l2) = T^(-1) . ( (x,y)-p3 )\n",
    "        l3 = 1-l2-l3\n",
    "    '''\n",
    "    x,y = p[0],p[1]\n",
    "    # l3*sqrt(3)/2 = y\n",
    "    l3 = y*2./sqrt(3.)\n",
    "    # l1 + l2 + l3 = 1\n",
    "    # 0.5*(l2 - l1) = x\n",
    "    l2 = x + 0.5*(1 - l3)\n",
    "    l1 = 1 - l2 - l3\n",
    "    return l1,l2,l3"
   ]
  },
  {
   "cell_type": "code",
   "execution_count": 3,
   "metadata": {},
   "outputs": [],
   "source": [
    "def scalProd(p1,p2):\n",
    "    '''\n",
    "        input: p1 and p2 are the vetors of form [x0,x1,...,xn]'\n",
    "        output: is the scalar product of p1 and p2.\n",
    "    '''\n",
    "    return sum([p1[i]*p2[i] for i in range(len(p1))])"
   ]
  },
  {
   "cell_type": "code",
   "execution_count": 4,
   "metadata": {},
   "outputs": [],
   "source": [
    "def slerp(p0,p1,t):\n",
    "    '''\n",
    "        program outputs the spherical linear interpolation \n",
    "        of arc defined by p0, p1(around origin).  \n",
    "        \n",
    "        input: t=0 -> p0, t=1 -> p1. \n",
    "                p0 and p1 are the vetors of form [x,y,z]\n",
    "        \n",
    "        output: interpolated coordinates.\n",
    "        \n",
    "        https://en.wikipedia.org/wiki/Slerp\n",
    "        \n",
    "    '''\n",
    "#    assert abs(scalProd(p0,p0) - scalProd(p1,p1)) < 1e-7\n",
    "    ang0Cos = scalProd(p0,p1)/scalProd(p0,p0)\n",
    "    ang0Sin = sqrt(1 - ang0Cos*ang0Cos)\n",
    "    ang0 = atan2(ang0Sin,ang0Cos)\n",
    "    l0 = sin((1-t)*ang0)\n",
    "    l1 = sin(t    *ang0)\n",
    "    return np.array([(l0*p0[i] + l1*p1[i])/ang0Sin for i in range(len(p0))])"
   ]
  },
  {
   "cell_type": "code",
   "execution_count": 5,
   "metadata": {},
   "outputs": [],
   "source": [
    "# map 2D point p to spherical triangle s1,s2,s3 (3D vectors of equal length)\n",
    "def mapGridpoint2Sogere(p,s1,s2,s3):\n",
    "    '''\n",
    "        program outputs the coordinate array of the projection of the input\n",
    "        coordinates on the unit sphere.   \n",
    "        inputs:\n",
    "            - 'p' is the coordinate array of the planer verticies of the closed \n",
    "                shape to be projected in the form [x,y,z]'.\n",
    "            - 's1','s2' and 's3' are the vectors defining plane of the co-ordinates \n",
    "                to be projected. \n",
    "        output: is the coordinate array of the projected face on the unit sphere.\n",
    "        \n",
    "        ex. mapGidpoint2Sogere([0,0.5,0.5],[1,0,0]',[0,1,0]',[0,0,1]')\n",
    "    '''\n",
    "    l1,l2,l3 = barycentricCoords(p)\n",
    "    if abs(l3-1) < 1e-10: return s3\n",
    "    l2s = l2/(l1+l2)\n",
    "    p12 = slerp(s1,s2,l2s)\n",
    "    return slerp(p12,s3,l3)"
   ]
  },
  {
   "cell_type": "code",
   "execution_count": 6,
   "metadata": {},
   "outputs": [],
   "source": [
    "def hexagon(x,y,th,scale,opt, fact=0):\n",
    "    '''\n",
    "        this program creates the hexagon of given configuration and size.\n",
    "        inputs: \n",
    "            - x and y are the rectangular coordinates of the center of the hexagon\n",
    "            - th is the rotation angle measured anticlockwise positive \n",
    "                from positive x axis\n",
    "            - scale : is a contraction/dilation factor\n",
    "            - opt: 1 full hexagon. 2 half hexagon\n",
    "\n",
    "            output: planar hexagon (complete/truncated) orientated \n",
    "        example:\n",
    "            hexagon(0,0,np.pi/6,0.5,1)\n",
    "    '''\n",
    "    # rotation matrx with scale (th>0 the transformation is anti-clockwise)\n",
    "    rot_mat = scale * np.array([[np.cos(th), -np.sin(th)],\n",
    "                    [np.sin(th), np.cos(th)]])\n",
    "    if opt == 1:\n",
    "        '''\n",
    "            Hexagone complet\n",
    "                                   Y\n",
    "                  0                ^\n",
    "            1           5          I\n",
    "                                   I--- > X\n",
    "            2           4\n",
    "                  3     \n",
    "        ''' \n",
    "        hex = np.zeros((2,6))\n",
    "        hex[0,:]= np.array([np.sin(i*np.pi/3) for i in range(6)]) # X-coord\n",
    "        hex[1,:]= np.array([np.cos(i*np.pi/3) for i in range(6)]) # Y-coord\n",
    "    \n",
    "    elif opt == 2:\n",
    "        '''\n",
    "            Hexagone tronque\n",
    "            \n",
    "                    2               ^\n",
    "             3             1         I\n",
    "                                     I\n",
    "             4             0         I--- >\n",
    "        ''' \n",
    "        hex = np.zeros((2,5))\n",
    "        hex[0,:]= np.array([sqrt(3)/2,sqrt(3)/2,0,-sqrt(3)/2,-sqrt(3)/2]) # X-ccod\n",
    "        hex[1,:]= np.array([0,0.5,1,0.5,0]) # Y-coord\n",
    "\n",
    "    elif opt == 3:\n",
    "        # point 0 et 1 sont modifiers par rapport au type 2\n",
    "        hex = np.zeros((2,5))\n",
    "        hex[0,:]= np.array([sqrt(3)/2-fact,sqrt(3)/2-fact,0,-sqrt(3)/2,-sqrt(3)/2]) # X-ccod\n",
    "        hex[1,:]= np.array([0,1/2+fact/sqrt(3),1,0.5,0]) # Y-coord\n",
    "\n",
    "    elif opt == 4:\n",
    "        # point 3 et 4 sont modifiers par rapport au type 2\n",
    "        hex = np.zeros((2,5))\n",
    "        hex[0,:]= np.array([sqrt(3)/2,sqrt(3)/2,0,-sqrt(3)/2+fact,-sqrt(3)/2+fact]) # X-ccod\n",
    "        hex[1,:]= np.array([0,0.5,1,1/2+fact/sqrt(3),0]) # Y-coord\n",
    "\n",
    "\n",
    "    hex = np.matmul(rot_mat,hex)\n",
    " \n",
    "    hex[0,:]= x+hex[0,:] \n",
    "    hex[1,:]= y+hex[1,:]\n",
    "    \n",
    "    return hex"
   ]
  },
  {
   "cell_type": "code",
   "execution_count": 7,
   "metadata": {},
   "outputs": [],
   "source": [
    "def getIcosaedreVertices():\n",
    "    \"\"\"\n",
    "        outputs location of the icosaedre vertices 3D points\n",
    "    \"\"\"\n",
    "    #golden ratio\n",
    "    phi = 0.5*(1+sqrt(5)) \n",
    "    \n",
    "    topPoints = \\\n",
    "        [(phi,1,0)]+\\\n",
    "        [(phi,-1,0)]+\\\n",
    "        [(1,0,-phi)]+\\\n",
    "        [(0,phi,-1)]+\\\n",
    "        [(0,phi,1)]+\\\n",
    "        [(1,0,phi)]\n",
    "    \n",
    "    topPoints = np.array(topPoints)\n",
    "    # rot clockwise arround Z pour amener le point 1 en position (1,0,0)\n",
    "    sinth = 1/sqrt(1+phi**2)\n",
    "    costh = phi*sinth\n",
    "    scale = 1/sqrt(1+phi**2)\n",
    "    rot_mat = scale*np.array([[costh,sinth,0.],\n",
    "                        [-sinth, costh,0.],\n",
    "                        [0.,0.,1]])\n",
    "    \n",
    "    for i in range(len(topPoints)):\n",
    "        topPoints[i,:] = np.matmul(rot_mat,topPoints[i,:])\n",
    "\n",
    "    # change de repere\n",
    "    # X' = -Y, Y'=-Z, Z'=X\n",
    "    tmp = np.zeros_like(topPoints)\n",
    "    for i in range(topPoints.shape[0]):\n",
    "        tmp[i,0] = -topPoints[i,1]\n",
    "        tmp[i,1] = -topPoints[i,2]\n",
    "        tmp[i,2] =  topPoints[i,0]\n",
    "    topPoints = tmp\n",
    "    \n",
    "    # points du bas de l'icosaedre\n",
    "    bottomPoints = np.zeros_like(topPoints)\n",
    "    for i in range(bottomPoints.shape[0]):\n",
    "        bottomPoints[i,0] = -topPoints[i,0]\n",
    "        bottomPoints[i,1] =  topPoints[i,1]\n",
    "        bottomPoints[i,2] = -topPoints[i,2]\n",
    "\n",
    "    # icosaedre vertices\n",
    "    icoPoints=np.vstack((topPoints,bottomPoints))\n",
    "    \n",
    "    #return\n",
    "    return icoPoints"
   ]
  },
  {
   "cell_type": "code",
   "execution_count": 8,
   "metadata": {},
   "outputs": [],
   "source": [
    "def getProjectedFace(hexag,icoPoints,u,v,w):\n",
    "    \"\"\"\n",
    "        outputs the coordinates of projected face on the plane \n",
    "        defined by tips of the vectors u,v and w on the unit radius sphere.  \n",
    " \n",
    "         Inputs:\n",
    "\n",
    "            _ 'hexag' is the coordinate array of the planer verticies of the closed \n",
    "             shape to be projected in the form [x,y,z]'.\n",
    "            _ 'u','v' and 'w' are the vectors defining plane to be projected on \n",
    "                 the sphere.\n",
    "            _ 'icoPoints': icosedre 3D vertices\n",
    "    \n",
    "    \"\"\"\n",
    "    \n",
    "    n = hexag.shape[1]\n",
    "    face = np.zeros((3,n))\n",
    "    # projecting the input hexagonal mesh on the sphere\n",
    "    for i in range(n):\n",
    "        face[:,i] = mapGridpoint2Sogere(hexag[:,i],\n",
    "                                        icoPoints[u,:],\n",
    "                                        icoPoints[v,:],\n",
    "                                        icoPoints[w,:])\n",
    "    \n",
    "    return face"
   ]
  },
  {
   "cell_type": "code",
   "execution_count": 9,
   "metadata": {},
   "outputs": [],
   "source": [
    "def getProjectedPt(p,icoPoints,u,v,w):\n",
    "    \"\"\"\n",
    "    p: 2D point location\n",
    "    \"\"\"\n",
    "    return mapGridpoint2Sogere(p,\n",
    "                                icoPoints[u,:],\n",
    "                                icoPoints[v,:],\n",
    "                                icoPoints[w,:])"
   ]
  },
  {
   "cell_type": "code",
   "execution_count": 10,
   "metadata": {},
   "outputs": [],
   "source": [
    "def getIcoTriangs(modif=True):\n",
    "    \"\"\"\n",
    "    20 faces : 3 vertex per face \n",
    "    12 vertex: each vertex is a number 0,...,11\n",
    "    order : (0,1,2) for face 0 and then following some rotations\n",
    "            we get the triplet for each face\n",
    "    \"\"\"\n",
    "    nfaces = 20\n",
    "    icoTriangs = np.zeros((nfaces,3),dtype=int)\n",
    "    if modif:\n",
    "        icoTriangs[0] = np.array([0,1,2])\n",
    "        icoTriangs[1] = np.array([0,2,3])\n",
    "        icoTriangs[2] = np.array([0,3,4])\n",
    "        icoTriangs[3] = np.array([0,4,5])\n",
    "        icoTriangs[4] = np.array([0,5,1])\n",
    "        #JEC change 12/1/21 poour bottom cap evolue clockwise \n",
    "        icoTriangs[5] = np.array([7,8,6])\n",
    "        icoTriangs[6] = np.array([11,7,6])\n",
    "        icoTriangs[7] = np.array([10,11,6])\n",
    "        icoTriangs[8] = np.array([9,10,6])\n",
    "        icoTriangs[9] = np.array([8,9,6])\n",
    "        #\n",
    "        icoTriangs[10]= np.array([2,1,9])\n",
    "        icoTriangs[11]= np.array([3,2,8])\n",
    "        icoTriangs[12]= np.array([4,3,7])\n",
    "        icoTriangs[13]= np.array([5,4,11])\n",
    "        icoTriangs[14]= np.array([1,5,10])\n",
    "        #\n",
    "        icoTriangs[15]= np.array([9,1,10])\n",
    "        icoTriangs[16]= np.array([8,2,9])\n",
    "        icoTriangs[17]= np.array([7,3,8])\n",
    "        icoTriangs[18]= np.array([11,4,7])\n",
    "        icoTriangs[19]= np.array([10,5,11])\n",
    "    else:\n",
    "        icoTriangs = [(0,i+1,(i+1)%5+1) for i in range(5)] +\\\n",
    "             [(6,i+7,(i+1)%5+7) for i in range(5)] +\\\n",
    "             [(i+1,(i+1)%5+1,(7-i)%5+7) for i in range(5)] +\\\n",
    "             [(i+1,(7-i)%5+7,(8-i)%5+7) for i in range(5)]\n",
    "        icoTriangs=np.array(icoTriangs)\n",
    "\n",
    "    return icoTriangs"
   ]
  },
  {
   "cell_type": "code",
   "execution_count": 11,
   "metadata": {},
   "outputs": [],
   "source": [
    "def Draw_Goldberg_Polyhedron(n,fact=0,return_df=True, modif=False):\n",
    "        \n",
    "    nfaces=20\n",
    "    \n",
    "    #DF structure\n",
    "    if return_df:\n",
    "        df = pd.DataFrame(columns=['idx','type','center','vertices'])\n",
    "    \n",
    "    \n",
    "    fig = plt.figure()\n",
    "    fig.suptitle(f\"n:{n}\"+ (\"-modif\" if modif else \"-orig\"))\n",
    "\n",
    "    ax = Axes3D(fig)\n",
    "    ax.set_xlabel(r'$X$', fontsize=20)\n",
    "    ax.set_ylabel(r'$Y$', fontsize=20)\n",
    "    ax.set_zlabel(r'$Z$', fontsize=20)    \n",
    "    colors = cm.rainbow(np.linspace(0, 1, nfaces))\n",
    "    \n",
    "    #icosedre vertices\n",
    "    icoPoints = getIcosaedreVertices()\n",
    "    \n",
    "    #triplet of vertices for each face\n",
    "    icoTriangs = getIcoTriangs(modif)\n",
    "    \n",
    "    # in equilateral trinagle \n",
    "    x,y = -1/2,0\n",
    "\n",
    "    scale = 1/(n*sqrt(3))\n",
    "    \n",
    "    #loop over the 20 faces of the icosaedre\n",
    "#    for k in [0,1,2,3,4]:\n",
    "    for k in range(nfaces):\n",
    "        for i in range(n+1):\n",
    "            for j in range(n-i+1):\n",
    "                if i==0:\n",
    "                    th = -2*pi/3\n",
    "                    if j==1:\n",
    "                        opt = 3\n",
    "                    elif j==n-i-1:\n",
    "                        opt = 4\n",
    "                    else:\n",
    "                        opt = 2\n",
    "                elif j==n-i: \n",
    "                    th = 2*pi/3\n",
    "                    if i==1:\n",
    "                        opt = 3\n",
    "                    elif i==n-1:\n",
    "                        opt = 4\n",
    "                    else:\n",
    "                        opt = 2\n",
    "                elif (j==0 and i != 0):\n",
    "                    th = 0\n",
    "                    if i==1:\n",
    "                        opt = 4\n",
    "                    elif i==n-1:\n",
    "                        opt = 3\n",
    "                    else:\n",
    "                        opt = 2\n",
    "                else:\n",
    "                    opt = 1\n",
    "                    th = 0\n",
    "                #exclude the hexagons at the vertices of the isocele triangle\n",
    "                if (i!=0 or j!=0) and (i!=0 or j!=n) and (i!=n or j!=0):\n",
    "                    hexagcenter = np.array([x+i*1/n+j*1/(2*n), y+j*sqrt(3)/(2*n)])\n",
    "                    hexag = hexagon(hexagcenter[0],hexagcenter[1],th,scale,opt,fact=fact)\n",
    "                    a = icoTriangs[k,0]\n",
    "                    b = icoTriangs[k,1]\n",
    "                    c = icoTriangs[k,2]\n",
    "                    face = getProjectedFace(hexag,icoPoints,a,b,c)\n",
    "                    center = getProjectedPt(hexagcenter,icoPoints,a,b,c)\n",
    "                    xf,yf,zf = face[0,:],face[1,:],face[2,:]\n",
    "                    vertsf=list(zip(xf,yf,zf))\n",
    "                    # Dataframe\n",
    "                    if return_df:\n",
    "                        df=df.append({'idx':(k,i,j),\n",
    "                                      'type':opt,\n",
    "                                      'center':(center[0],center[1],center[2]),\n",
    "                                      'vertices':vertsf},ignore_index=True)\n",
    "                    \n",
    "                    #plot\n",
    "                    #ax.scatter(xf,yf,zf,s=1)\n",
    "                    ax.scatter(center[0],center[1],center[2],marker='x',s=10,color=colors[k])\n",
    "#                    ax.text(center[0]*1.01,center[1]*1.01,center[2]*1.01,'%s/%s' % (str(k),str(opt)), \n",
    "#                            size=10, zorder=1, color=colors[k],zdir=(0,0.5,0.5*np.sign(np.mean(zf)-0.5)))\n",
    "#                    ax.text(center[0]*1.01,center[1]*1.01,center[2]*1.01,'%s/%s/%s' % (str(k),str(j),str(i)), \n",
    "#                            size=10, zorder=1, color=colors[k],zdir=(0,0.5,0.5*np.sign(np.mean(zf)-0.5)))\n",
    "\n",
    "                    ax.add_collection3d(Poly3DCollection([vertsf], facecolors = colors[k], edgecolors='k', linewidths=1, alpha=0.9))\n",
    "\n",
    "    #eofor\n",
    "    ax.set_xlim([-1,1])\n",
    "    ax.set_ylim([-1,1])\n",
    "    ax.set_zlim([-1,1])\n",
    "    plt.show()\n",
    "    # return dataframe\n",
    "    if return_df:\n",
    "        return df"
   ]
  },
  {
   "cell_type": "code",
   "execution_count": 12,
   "metadata": {},
   "outputs": [],
   "source": [
    "#avec rearrangement des vertex des faces\n",
    "Draw_Goldberg_Polyhedron(5,return_df=False, modif=True)"
   ]
  },
  {
   "cell_type": "code",
   "execution_count": 13,
   "metadata": {},
   "outputs": [],
   "source": [
    "def plot_icoVertices():\n",
    "    icoPoints = getIcosaedreVertices()\n",
    "    fig = plt.figure()\n",
    "    ax = Axes3D(fig)\n",
    "    ax.scatter(icoPoints[:,0],icoPoints[:,1],icoPoints[:,2], c='black')\n",
    "    ax.set_xlabel(r'$X$', fontsize=20)\n",
    "    ax.set_ylabel(r'$Y$', fontsize=20)\n",
    "    ax.set_zlabel(r'$Z$', fontsize=20)\n",
    "    ax.set_xlim3d([-1,1])\n",
    "    ax.set_ylim3d([-1,1])\n",
    "    ax.set_zlim3d([-1,1])\n",
    "\n",
    "    plt.show()"
   ]
  },
  {
   "cell_type": "code",
   "execution_count": 14,
   "metadata": {},
   "outputs": [],
   "source": [
    "plot_icoVertices()"
   ]
  },
  {
   "cell_type": "code",
   "execution_count": 15,
   "metadata": {},
   "outputs": [],
   "source": [
    "# Import seaborn\n",
    "import seaborn as sns"
   ]
  },
  {
   "cell_type": "code",
   "execution_count": 16,
   "metadata": {},
   "outputs": [],
   "source": [
    "def icoTriangsConfig(modif=False):\n",
    "    \"\"\"\n",
    "    Draw an icosaedron with faces and vertices numering\n",
    "    \"\"\"\n",
    "    \n",
    "    #icosedre vertices\n",
    "    icoPoints = getIcosaedreVertices()\n",
    "        \n",
    "    x,y = -1/2,0\n",
    "    # ensemble de tous les triplets de points qui constituent les 20 triangles equilateraux\n",
    "    icoTriangs = getIcoTriangs(modif)\n",
    "    \n",
    "    fig = plt.figure()\n",
    "    fig.suptitle(\"icoTriangs\" + (\"-modif\" if modif else \"-orig\"))\n",
    "\n",
    "    ax = Axes3D(fig)\n",
    "\n",
    "    nfaces=20\n",
    "    sns.reset_orig()  # get default matplotlib styles back\n",
    "    clrs = sns.color_palette('hls', n_colors=nfaces)  # a list of RGB tuples\n",
    "#    ax.scatter(icoPoints[:,0],icoPoints[:,1],icoPoints[:,2], c='blue')\n",
    "    for k in range(icoPoints.shape[0]):\n",
    "        ax.text(icoPoints[k,0]*1.05,icoPoints[k,1]*1.05,icoPoints[k,2]*1.05,'%s' % str(k),size=15, zorder=10, color='blue')\n",
    "    for k in range(nfaces):\n",
    "        xf,yf,zf=icoPoints[icoTriangs[k],0],icoPoints[icoTriangs[k],1],icoPoints[icoTriangs[k],2]\n",
    "        vertsf=list(zip(xf,yf,zf))\n",
    "        ax.add_collection3d(Poly3DCollection([vertsf], facecolors = clrs[k], \n",
    "                                             edgecolors='k', linewidths=1, alpha=0.2))\n",
    "        cx,cy,cz = np.mean(xf),np.mean(yf),np.mean(zf)\n",
    "        ax.text(cx,cy,cz,'%s' % str(k),size=15, zorder=15, color='black')\n",
    "\n",
    "        \n",
    "    ax.set_xlabel(r'$X$', fontsize=20)\n",
    "    ax.set_ylabel(r'$Y$', fontsize=20)\n",
    "    ax.set_zlabel(r'$Z$', fontsize=20)\n",
    "    ax.set_xlim3d([-1,1])\n",
    "    ax.set_ylim3d([-1,1])\n",
    "    ax.set_zlim3d([-1,1])\n",
    "\n",
    "    plt.show()"
   ]
  },
  {
   "cell_type": "code",
   "execution_count": 17,
   "metadata": {},
   "outputs": [],
   "source": [
    "#Version de base\n",
    "#icoTriangsConfig()"
   ]
  },
  {
   "cell_type": "code",
   "execution_count": 18,
   "metadata": {},
   "outputs": [],
   "source": [
    "#mofdified versipn\n",
    "icoTriangsConfig(modif=True)"
   ]
  },
  {
   "cell_type": "code",
   "execution_count": 19,
   "metadata": {},
   "outputs": [],
   "source": [
    "def rot(phi, a,b,c):\n",
    "    \"\"\" \n",
    "        rotation of angle phi (radians) arround axis (a,b,c) (unit norm)\n",
    "        a=0.21\n",
    "        b=0.43\n",
    "        c=sqrt(1-a*a-b*b)\n",
    "        phi=0.33\n",
    "        r1=rot(phi,a,b,c)\n",
    "        \n",
    "        assert np.allclose(np.matmul(r1,r1),rot(2*phi,a,b,c)),\\ \n",
    "                \"bug: r1(phi).r1(phi) should be r1(2*phi)\"\n",
    "        assert np.allclose(np.matmul(r1,r1.T),rot(0.,1,0,0)),\\\n",
    "                \"bug: r1.(r1.T) should be Identity\"\n",
    "        \n",
    "    \"\"\"\n",
    "    cphi = cos(phi)\n",
    "    sphi = sin(phi)\n",
    "    return np.array([[cphi + a*a*(1-cphi),(1-cphi)*a*b - c*sphi, (1-cphi)*a*c + b*sphi],\n",
    "             [(1-cphi)*a*b + c*sphi, cphi + b*b*(1-cphi), (1-cphi)*b*c - a*sphi],\n",
    "             [(1-cphi)*a*c - b*sphi, (1-cphi)*b*c + a*sphi, cphi + c*c*(1-cphi)]])"
   ]
  },
  {
   "cell_type": "code",
   "execution_count": 20,
   "metadata": {},
   "outputs": [],
   "source": [
    "def getFace0TofaceIMtx():\n",
    "    nfaces = 20\n",
    "    icoFaceMtx = np.zeros((nfaces,3,3))\n",
    "    \n",
    "    # cosine directors of axis \"0\" starting at origin and passing by vertex 0\n",
    "    a0 = 0.\n",
    "    b0 = 0.\n",
    "    c0 = 1.\n",
    "    # cosine directors of axis \"1\" starting at origin and passing by vertex 1\n",
    "    goldphi = (1.+sqrt(5.))/2.  # golden ratio (x^2=x+1)\n",
    "    goldphi2 = goldphi * goldphi \n",
    "    c1 = goldphi/(1.+goldphi2)\n",
    "    a1 = 2.*c1\n",
    "    b1 = 0.\n",
    "    assert np.isclose(a1*a1+b1*b1+c1*c1,1.0), \"bug getFace0TofaceI axis 1 should be norm=1\"\n",
    "    # cosine directors of axis \"4\" starting at origin and passing by vertex 4\n",
    "    a4 = - goldphi2/(1.+goldphi2)\n",
    "    c4 = goldphi/(1.+goldphi2)\n",
    "    b4 = - c4*sqrt(4.-goldphi2)\n",
    "    assert np.isclose(a4*a4+b4*b4+c4*c4,1.0), \"bug getFace0TofaceI axis 4 should be norm=1\"\n",
    "\n",
    "    theta5 = 2.*pi/5.\n",
    "    \n",
    "    #Face 0 is the reference \n",
    "    icoFaceMtx[0] = rot(0.,1.,0.,0.)    # identity\n",
    "    \n",
    "    # Faces of the upper cap : (vertex 0 is in common)\n",
    "    # -----------------------\n",
    "    # face \"i\" is obtained from face 0 by rotation +i*(2pi/5)\n",
    "    # arround axis \"0\"    \n",
    "    for i in [1,2,3,4]:\n",
    "        icoFaceMtx[i] = rot(i*theta5, a0,b0,c0)\n",
    "    \n",
    "    # Faces of the middle: \n",
    "    # -----------------------\n",
    "    # two types: \n",
    "    #    - type 1 obtained by rotation arround axe 0 of face 10\n",
    "    #    - type 2 obtained by rotation arround axe 0 of face 15\n",
    "    \n",
    "    # Type 1\n",
    "    # Face 10 is obtained face 0 by rotation -2pi/5 around axis 1\n",
    "    icoFaceMtx[10] = rot(-theta5, a1,b1,c1)\n",
    "    # Faces [11,12,13,14] obtained from face 10 by i=1,2,3,4 rotations of 2pi/5 \n",
    "    # arround axe 0\n",
    "    for i in [1,2,3,4]:\n",
    "        rtmp = rot(i*theta5, a0,b0,c0)\n",
    "        icoFaceMtx[10+i] = np.matmul(rtmp,icoFaceMtx[10]) \n",
    "\n",
    "    # Type 2\n",
    "    # Face 15 is obtained face 0 by rotation -4pi/5 around axis 1\n",
    "    icoFaceMtx[15] = rot(-2*theta5, a1,b1,c1)\n",
    "    # Faces [16,17,18,19] obtained from face 15 by i=1,2,3,4 rotations of 2pi/5 \n",
    "    # arround axe 0\n",
    "    for i in [1,2,3,4]:\n",
    "        rtmp = rot(i*theta5, a0,b0,c0)\n",
    "        icoFaceMtx[15+i] = np.matmul(rtmp,icoFaceMtx[15]) \n",
    "    \n",
    "    \n",
    "    # Faces of the bottom cap (vertex 6 is in common)\n",
    "    # -----------------------\n",
    "    # first Face 5 is obtained from face 0 by rotation of 4pi/5 arround axis \"4\" \n",
    "    icoFaceMtx[5] = rot(2*theta5, a4,b4,c4)\n",
    "    # then: faces [6,7,8,9] obtained from face 5 by i=1,2,3,4 rotations of +2pi/5 \n",
    "    # arround axe 0\n",
    "    for i in [1,2,3,4]:\n",
    "        rtmp = rot(i*theta5, a0,b0,c0)\n",
    "        icoFaceMtx[5+i] = np.matmul(rtmp,icoFaceMtx[5]) \n",
    "\n",
    "    \n",
    "    #done\n",
    "    return icoFaceMtx"
   ]
  },
  {
   "cell_type": "code",
   "execution_count": 21,
   "metadata": {},
   "outputs": [
    {
     "data": {
      "text/plain": [
       "array([[ 0.30901699, -0.95105652,  0.        ],\n",
       "       [ 0.95105652,  0.30901699,  0.        ],\n",
       "       [ 0.        ,  0.        ,  1.        ]])"
      ]
     },
     "execution_count": 21,
     "metadata": {},
     "output_type": "execute_result"
    }
   ],
   "source": [
    "getFace0TofaceIMtx()[1]"
   ]
  },
  {
   "cell_type": "code",
   "execution_count": 22,
   "metadata": {},
   "outputs": [],
   "source": [
    "def getFaceIToface0Mtx():\n",
    "    \"\"\"\n",
    "    This is the inverse of getFace0TofaceIMtx but we do not use any inversion mtx routine\n",
    "    \"\"\"\n",
    "    \n",
    "    nfaces = 20\n",
    "    icoFaceMtx = np.zeros((nfaces,3,3))\n",
    "    \n",
    "    # cosine directors of axis \"0\" starting at origin and passing by vertex 0\n",
    "    a0 = 0.\n",
    "    b0 = 0.\n",
    "    c0 = 1.\n",
    "    # cosine directors of axis \"1\" starting at origin and passing by vertex 1\n",
    "    goldphi = (1.+sqrt(5.))/2.  # golden ratio (x^2=x+1)\n",
    "    goldphi2 = goldphi * goldphi \n",
    "    c1 = goldphi/(1.+goldphi2)\n",
    "    a1 = 2.*c1\n",
    "    b1 = 0.\n",
    "    assert np.isclose(a1*a1+b1*b1+c1*c1,1.0), \"bug getFace0TofaceI axis 1 should be norm=1\"\n",
    "    # cosine directors of axis \"4\" starting at origin and passing by vertex 4\n",
    "    a4 = - goldphi2/(1.+goldphi2)\n",
    "    c4 = goldphi/(1.+goldphi2)\n",
    "    b4 = - c4*sqrt(4.-goldphi2)\n",
    "    assert np.isclose(a4*a4+b4*b4+c4*c4,1.0), \"bug getFace0TofaceI axis 4 should be norm=1\"\n",
    "\n",
    "    theta5 = 2.*pi/5.\n",
    "    \n",
    "    #Face 0 is the reference \n",
    "    icoFaceMtx[0] = rot(0.,1.,0.,0.)    # identity\n",
    "    \n",
    "    # Faces of the upper cap : (vertex 0 is in common)\n",
    "    # -----------------------\n",
    "    # face \"i\" is obtained from face 0 by rotation +i*(2pi/5)\n",
    "    # arround axis \"0\"    \n",
    "    for i in [1,2,3,4]:\n",
    "        icoFaceMtx[i] = rot(-i*theta5, a0,b0,c0)\n",
    "    \n",
    "    # Faces of the middle: \n",
    "    # -----------------------\n",
    "    # two types: \n",
    "    #    - type 1 obtained by rotation arround axe 0 of face 10\n",
    "    #    - type 2 obtained by rotation arround axe 0 of face 15\n",
    "    \n",
    "    # Type 1\n",
    "    # Face 10 is obtained face 0 by rotation -2pi/5 around axis 1\n",
    "    icoFaceMtx[10] = rot(+theta5, a1,b1,c1)\n",
    "    # Faces [11,12,13,14] obtained from face 10 by i=1,2,3,4 rotations of 2pi/5 \n",
    "    # arround axe 0\n",
    "    for i in [1,2,3,4]:\n",
    "        rtmp = rot(-i*theta5, a0,b0,c0)\n",
    "        icoFaceMtx[10+i] = np.matmul(icoFaceMtx[10],rtmp) \n",
    "\n",
    "    # Type 2\n",
    "    # Face 15 is obtained face 0 by rotation -4pi/5 around axis 1\n",
    "    icoFaceMtx[15] = rot(+2*theta5, a1,b1,c1)\n",
    "    # Faces [16,17,18,19] obtained from face 15 by i=1,2,3,4 rotations of 2pi/5 \n",
    "    # arround axe 0\n",
    "    for i in [1,2,3,4]:\n",
    "        rtmp = rot(-i*theta5, a0,b0,c0)\n",
    "        icoFaceMtx[15+i] = np.matmul(icoFaceMtx[15],rtmp) \n",
    "    \n",
    "    \n",
    "    # Faces of the bottom cap (vertex 6 is in common)\n",
    "    # -----------------------\n",
    "    # first Face 5 is obtained from face 0 by rotation of 4pi/5 arround axis \"4\" \n",
    "    icoFaceMtx[5] = rot(-2*theta5, a4,b4,c4)\n",
    "    # then: faces [6,7,8,9] obtained from face 5 by i=1,2,3,4 rotations of +2pi/5 \n",
    "    # arround axe 0\n",
    "    for i in [1,2,3,4]:\n",
    "        rtmp = rot(-i*theta5, a0,b0,c0)\n",
    "        icoFaceMtx[5+i] = np.matmul(icoFaceMtx[5],rtmp) \n",
    "\n",
    "    \n",
    "    #done\n",
    "    return icoFaceMtx"
   ]
  },
  {
   "cell_type": "code",
   "execution_count": null,
   "metadata": {},
   "outputs": [],
   "source": []
  },
  {
   "cell_type": "code",
   "execution_count": 23,
   "metadata": {},
   "outputs": [
    {
     "name": "stdout",
     "output_type": "stream",
     "text": [
      "face 0: Ok\n",
      "face 1: Ok\n",
      "face 2: Ok\n",
      "face 3: Ok\n",
      "face 4: Ok\n",
      "face 5: Ok\n",
      "face 6: Ok\n",
      "face 7: Ok\n",
      "face 8: Ok\n",
      "face 9: Ok\n",
      "face 10: Ok\n",
      "face 11: Ok\n",
      "face 12: Ok\n",
      "face 13: Ok\n",
      "face 14: Ok\n",
      "face 15: Ok\n",
      "face 16: Ok\n",
      "face 17: Ok\n",
      "face 18: Ok\n",
      "face 19: Ok\n"
     ]
    }
   ],
   "source": [
    "\"\"\"\n",
    "Verif getFace0TofaceI:\n",
    "Start from face 0 vertices (0,1,2) and \n",
    "applying getFace0TofaceI[i] one should find vertices of face \"i\"\n",
    "\"\"\"\n",
    "nfaces=20\n",
    "modif = True\n",
    "#icosedre vertices\n",
    "icoPoints = getIcosaedreVertices()\n",
    "#triplet of vertices for each face (new schema)\n",
    "icoTriangs = getIcoTriangs(modif)\n",
    "# Rotation matrices to throw a point in Face 0 to a point in Face \"i\" (i:1,..,19)\n",
    "faceMtx = getFace0TofaceIMtx()\n",
    "# Throw face 0 vertices (0,1,2) by broadcasting to face i vertices and compare \n",
    "verticesI=np.einsum('ijk,kl->ijl', faceMtx,icoPoints[0:3].T)\n",
    "for i in range(nfaces):\n",
    "    print(f\"face {i}: \" + (\"Ok\" if np.allclose(verticesI[i].T, icoPoints[icoTriangs[i]]) else \"Nok\"))"
   ]
  },
  {
   "cell_type": "code",
   "execution_count": 24,
   "metadata": {},
   "outputs": [],
   "source": [
    "mtx02I = getFace0TofaceIMtx()\n",
    "mtxI20 = getFaceIToface0Mtx()"
   ]
  },
  {
   "cell_type": "code",
   "execution_count": 25,
   "metadata": {},
   "outputs": [
    {
     "name": "stdout",
     "output_type": "stream",
     "text": [
      "verif 0:True\n",
      "verif 1:True\n",
      "verif 2:True\n",
      "verif 3:True\n",
      "verif 4:True\n",
      "verif 5:True\n",
      "verif 6:True\n",
      "verif 7:True\n",
      "verif 8:True\n",
      "verif 9:True\n",
      "verif 10:True\n",
      "verif 11:True\n",
      "verif 12:True\n",
      "verif 13:True\n",
      "verif 14:True\n",
      "verif 15:True\n",
      "verif 16:True\n",
      "verif 17:True\n",
      "verif 18:True\n",
      "verif 19:True\n"
     ]
    }
   ],
   "source": [
    "\"\"\"\n",
    "Verif getFaceIToface0Mtx\n",
    "\"\"\"\n",
    "identity = np.identity(3)\n",
    "for k in range(20):\n",
    "    print(f\"verif {k}:\" + str(np.allclose(np.matmul(mtx02I[k],mtxI20[k]),np.identity(3))))"
   ]
  },
  {
   "cell_type": "code",
   "execution_count": 26,
   "metadata": {},
   "outputs": [],
   "source": [
    "def buildFace0(n=5):\n",
    "    '''\n",
    "        build face 0\n",
    "         n : order of the pixelization\n",
    "    '''\n",
    "    # localisation bottom left vertices\n",
    "    x,y = -1/2,0\n",
    "    scale = 1/(n*sqrt(3))\n",
    "\n",
    "\n",
    "    #factor enhancement of pentagon\n",
    "    fact=0\n",
    "\n",
    "##    df = pd.DataFrame(columns=['idx','type','center','vertices'])\n",
    "\n",
    "    #icosedre vertices\n",
    "    icoPoints = getIcosaedreVertices()\n",
    "    #triplet of vertices for each face (new schema)\n",
    "    #modif face vertices\n",
    "    icoTriangs = getIcoTriangs(modif=True)\n",
    "\n",
    "    faces   = []\n",
    "    centers = []\n",
    "    types   = []\n",
    "    indexes = []\n",
    "\n",
    "    for i in range(n+1):\n",
    "        for j in range(n-i+1):\n",
    "            if i==0:\n",
    "                th = -2*pi/3\n",
    "                if j==1:\n",
    "                    opt = 3\n",
    "                elif j==n-i-1:\n",
    "                    opt = 4\n",
    "                else:\n",
    "                    opt = 2\n",
    "            elif j==n-i: \n",
    "                th = 2*pi/3\n",
    "                if i==1:\n",
    "                    opt = 3\n",
    "                elif i==n-1:\n",
    "                    opt = 4\n",
    "                else:\n",
    "                    opt = 2\n",
    "            elif (j==0 and i != 0):\n",
    "                th = 0\n",
    "                if i==1:\n",
    "                    opt = 4\n",
    "                elif i==n-1:\n",
    "                    opt = 3\n",
    "                else:\n",
    "                    opt = 2\n",
    "            else:\n",
    "                opt = 1\n",
    "                th = 0\n",
    "            #exclude the hexagons at the vertices of the isocele triangle\n",
    "            if (i!=0 or j!=0) and (i!=0 or j!=n) and (i!=n or j!=0):\n",
    "                hexagcenter = np.array([x+i*1/n+j*1/(2*n), y+j*sqrt(3)/(2*n)])\n",
    "                hexag = hexagon(hexagcenter[0],hexagcenter[1],th,scale,opt,fact=fact)\n",
    "                a = icoTriangs[0,0]\n",
    "                b = icoTriangs[0,1]\n",
    "                c = icoTriangs[0,2]\n",
    "                face   = getProjectedFace(hexag,icoPoints,a,b,c)\n",
    "                center = getProjectedPt(hexagcenter,icoPoints,a,b,c)\n",
    "\n",
    "                faces.append(face)\n",
    "                centers.append(center)\n",
    "                indexes.append((0,i,j))\n",
    "                types.append(opt)\n",
    "            \n",
    "    return faces, centers, indexes, types"
   ]
  },
  {
   "cell_type": "code",
   "execution_count": 27,
   "metadata": {},
   "outputs": [],
   "source": [
    "def plotFaceI(k=0, ax=None, n=5):\n",
    "    '''\n",
    "        k : index of Icosahedre face\n",
    "    '''\n",
    "    \n",
    "    #Get tiles of Face 0\n",
    "    faces0, centers0, indexes0, types0 = buildFace0(n)\n",
    "    collectFaces0 = np.hstack(faces0)  #collect all tiles of face 0\n",
    "    centers0 = np.array(centers0)\n",
    "    \n",
    "    \n",
    "    #Get Face 0 -> Face k rotation matrix\n",
    "    faceMtx = getFace0TofaceIMtx()\n",
    "    \n",
    "    if ax is None:\n",
    "        fig = plt.figure()\n",
    "        ax = Axes3D(fig)\n",
    "        ax.set_xlabel(r'$X$', fontsize=20)\n",
    "        ax.set_ylabel(r'$Y$', fontsize=20)\n",
    "        ax.set_zlabel(r'$Z$', fontsize=20)  \n",
    "        \n",
    "    nIcofaces = 20\n",
    "    colors = cm.rainbow(np.linspace(0, 1, nIcofaces))\n",
    "\n",
    "    #number of tiles per face wrt the order n\n",
    "    nTiles = len(faces0) # (n+1)(n+2)/2 - 3\n",
    "\n",
    "    centerfAll = np.einsum('jk,kl->jl', faceMtx[k],centers0.T).T\n",
    "    \n",
    "    #transform tuple to list\n",
    "    idxfAll  = np.array(indexes0)\n",
    "    typesAll = np.array(types0)\n",
    "    \n",
    "    \n",
    "    # change first element of each index by the face identifier\n",
    "    idxfAll[:,0] = k\n",
    "    idxfAll = [tuple(x) for x in idxfAll.tolist()]\n",
    "\n",
    "    for i in range(nTiles):\n",
    "        vertices=np.einsum('jk,kl->jl', faceMtx[k],faces0[i])\n",
    "        vertsf  = vertices.T\n",
    "        centerf = centerfAll[i]\n",
    "        idxf  = idxfAll[i]\n",
    "        typef = typesAll[i]\n",
    "    #    print(\"vertsf:  \", vertsf.shape)\n",
    "\n",
    "        xf,yf,zf = vertsf[:,0],vertsf[:,1],vertsf[:,2]\n",
    "\n",
    "\n",
    "        ax.scatter(centerf[0],centerf[1],centerf[2],marker='x',s=10,color='k')\n",
    "        ax.add_collection3d(Poly3DCollection([list(zip(xf,yf,zf))], \n",
    "                                             facecolors = colors[k], \n",
    "                                             edgecolors='k', \n",
    "                                             linewidths=1, alpha=0.5))\n",
    "        ax.text(centerf[0]*1.01,centerf[1]*1.01,centerf[2]*1.01,\"{}\".format('/'.join([str(x) for x in idxf])),size=10, zorder=1, color='k')\n",
    "\n",
    "    if ax is None:\n",
    "        ax.set_xlabel(r'$X$', fontsize=20)\n",
    "        ax.set_ylabel(r'$Y$', fontsize=20)\n",
    "        ax.set_zlabel(r'$Z$', fontsize=20)\n",
    "        ax.set_xlim3d([-1,1])\n",
    "        ax.set_ylim3d([-1,1])\n",
    "        ax.set_zlim3d([-1,1])\n",
    "        plt.show()"
   ]
  },
  {
   "cell_type": "code",
   "execution_count": 28,
   "metadata": {},
   "outputs": [],
   "source": [
    "#faces0, centers0, indexes0, types0 = buildFace0()"
   ]
  },
  {
   "cell_type": "code",
   "execution_count": 29,
   "metadata": {},
   "outputs": [],
   "source": [
    "plotFaceI(k=0)"
   ]
  },
  {
   "cell_type": "code",
   "execution_count": 30,
   "metadata": {},
   "outputs": [],
   "source": [
    "fig = plt.figure()\n",
    "ax = Axes3D(fig)\n",
    "ax.set_xlabel(r'$X$', fontsize=20)\n",
    "ax.set_ylabel(r'$Y$', fontsize=20)\n",
    "ax.set_zlabel(r'$Z$', fontsize=20)  \n",
    "for k in [0,1,4,10]:\n",
    "    plotFaceI(k, ax=ax)\n",
    "ax.set_xlabel(r'$X$', fontsize=20)\n",
    "ax.set_ylabel(r'$Y$', fontsize=20)\n",
    "ax.set_zlabel(r'$Z$', fontsize=20)\n",
    "ax.set_xlim3d([-1,1])\n",
    "ax.set_ylim3d([-1,1])\n",
    "ax.set_zlim3d([-1,1])\n",
    "plt.show()"
   ]
  },
  {
   "cell_type": "code",
   "execution_count": 31,
   "metadata": {},
   "outputs": [],
   "source": [
    "def pt3D2FaceId(pt,icoTriangCenters, zTh1, zTh2, full=True):\n",
    "    # study combinatoric\n",
    "    # 1) full: test 20 distance from current pt and the 20 face centers\n",
    "    # 2) select faces based on up-cup/bottom-cup/the rest.\n",
    "    if full:\n",
    "        return np.argmax(np.einsum('jk,kl->jl', icoTriangCenters,pt[:,np.newaxis]))"
   ]
  },
  {
   "cell_type": "markdown",
   "metadata": {},
   "source": [
    "# angle2Face vectorized based on relative distance wrt face centers"
   ]
  },
  {
   "cell_type": "code",
   "execution_count": null,
   "metadata": {},
   "outputs": [],
   "source": []
  },
  {
   "cell_type": "code",
   "execution_count": 32,
   "metadata": {},
   "outputs": [],
   "source": [
    "def getIcoTriangCenters():\n",
    "    #icosedre vertices\n",
    "    icoPoints = getIcosaedreVertices()\n",
    "    #triplet of vertices for each face (new schema)\n",
    "    #modif face vertices\n",
    "    icoTriangs = getIcoTriangs(modif=True)\n",
    "    #\n",
    "    #Get the location of the barycenters of the icosaedron faces\n",
    "    nfaces=20\n",
    "    tmp = np.array([icoPoints[icoTriangs[k]] for k in range(nfaces)])\n",
    "    icoTriangCenters = np.mean(tmp,axis=1,dtype=np.float64)\n",
    "    # project on the unit-sphere\n",
    "    norm=np.sqrt((icoTriangCenters*icoTriangCenters).sum(axis=1))\n",
    "\n",
    "    return icoTriangCenters / norm[:,np.newaxis]"
   ]
  },
  {
   "cell_type": "code",
   "execution_count": null,
   "metadata": {},
   "outputs": [],
   "source": []
  },
  {
   "cell_type": "code",
   "execution_count": 33,
   "metadata": {},
   "outputs": [],
   "source": [
    "def pt3DtoSpherical(xyz):\n",
    "    norm = np.sqrt(xyz[:,0]**2 + xyz[:,1]**2 + xyz[:,2]**2)\n",
    "    theta = np.arccos(xyz[:,2]/norm)\n",
    "    phi = np.arctan2(xyz[:,1], xyz[:,0])\n",
    "    mask = phi<0\n",
    "    phi[mask]+=2*pi\n",
    "    return np.array([theta,phi]).T\n"
   ]
  },
  {
   "cell_type": "code",
   "execution_count": null,
   "metadata": {},
   "outputs": [],
   "source": []
  },
  {
   "cell_type": "code",
   "execution_count": 34,
   "metadata": {},
   "outputs": [],
   "source": [
    "# theta, phi angles of the 20 center of faces\n",
    "icoTriangCenters = getIcoTriangCenters()\n",
    "angleicoTriangCenters= pt3DtoSpherical(icoTriangCenters)"
   ]
  },
  {
   "cell_type": "code",
   "execution_count": 35,
   "metadata": {},
   "outputs": [],
   "source": [
    "# theta, phi angles the 12 vertices\n",
    "icoPoints = getIcosaedreVertices()\n",
    "icoVertices = icoPoints\n",
    "angleicoVertices = pt3DtoSpherical(icoVertices)"
   ]
  },
  {
   "cell_type": "code",
   "execution_count": 36,
   "metadata": {},
   "outputs": [
    {
     "data": {
      "text/plain": [
       "array([[-5.55111512e-17, -0.00000000e+00,  1.00000000e+00],\n",
       "       [ 8.94427191e-01, -0.00000000e+00,  4.47213595e-01],\n",
       "       [ 2.76393202e-01,  8.50650808e-01,  4.47213595e-01],\n",
       "       [-7.23606798e-01,  5.25731112e-01,  4.47213595e-01],\n",
       "       [-7.23606798e-01, -5.25731112e-01,  4.47213595e-01],\n",
       "       [ 2.76393202e-01, -8.50650808e-01,  4.47213595e-01],\n",
       "       [ 5.55111512e-17, -0.00000000e+00, -1.00000000e+00],\n",
       "       [-8.94427191e-01, -0.00000000e+00, -4.47213595e-01],\n",
       "       [-2.76393202e-01,  8.50650808e-01, -4.47213595e-01],\n",
       "       [ 7.23606798e-01,  5.25731112e-01, -4.47213595e-01],\n",
       "       [ 7.23606798e-01, -5.25731112e-01, -4.47213595e-01],\n",
       "       [-2.76393202e-01, -8.50650808e-01, -4.47213595e-01]])"
      ]
     },
     "execution_count": 36,
     "metadata": {},
     "output_type": "execute_result"
    }
   ],
   "source": [
    "icoVertices"
   ]
  },
  {
   "cell_type": "code",
   "execution_count": 37,
   "metadata": {},
   "outputs": [
    {
     "data": {
      "text/plain": [
       "array([[ 0.        ,  3.14159265],\n",
       "       [ 1.10714872, -0.        ],\n",
       "       [ 1.10714872,  1.25663706],\n",
       "       [ 1.10714872,  2.51327412],\n",
       "       [ 1.10714872,  3.76991118],\n",
       "       [ 1.10714872,  5.02654825],\n",
       "       [ 3.14159265, -0.        ],\n",
       "       [ 2.03444394,  3.14159265],\n",
       "       [ 2.03444394,  1.88495559],\n",
       "       [ 2.03444394,  0.62831853],\n",
       "       [ 2.03444394,  5.65486678],\n",
       "       [ 2.03444394,  4.39822972]])"
      ]
     },
     "execution_count": 37,
     "metadata": {},
     "output_type": "execute_result"
    }
   ],
   "source": [
    "angleicoVertices"
   ]
  },
  {
   "cell_type": "code",
   "execution_count": 38,
   "metadata": {},
   "outputs": [
    {
     "data": {
      "text/plain": [
       "(20, 3)"
      ]
     },
     "execution_count": 38,
     "metadata": {},
     "output_type": "execute_result"
    }
   ],
   "source": [
    "icoTriangCenters.shape"
   ]
  },
  {
   "cell_type": "code",
   "execution_count": 39,
   "metadata": {},
   "outputs": [
    {
     "data": {
      "text/plain": [
       "(20, 2)"
      ]
     },
     "execution_count": 39,
     "metadata": {},
     "output_type": "execute_result"
    }
   ],
   "source": [
    "angleicoTriangCenters.shape"
   ]
  },
  {
   "cell_type": "code",
   "execution_count": 40,
   "metadata": {},
   "outputs": [],
   "source": [
    "def angle2FaceId_fullVectorized(thetaPhi, icoTriangCenters):\n",
    "    \"\"\" find the face of the different points \n",
    "        thetaPhi = Nx2  :  N x (theta, phi)\n",
    "        icoTriangCenters = 20x3 :  20x(xc,yc,zc)\n",
    "        use: scalaire product \n",
    "          pt = 3xN  : (x,y,z) x N\n",
    "          (20,3) . (3,N) = (20,N)  \n",
    "          argmax axis 0 => N values\n",
    "    \"\"\"\n",
    "    #current pt\n",
    "#    print(thetaPhi.shape)\n",
    "    theta = thetaPhi[:,0]\n",
    "    phi   = thetaPhi[:,1]\n",
    "    pt = np.array([np.sin(theta)*np.cos(phi),np.sin(theta)*np.sin(phi),np.cos(theta)])\n",
    "    # test the 20 distnaces from current pt to the 20 face centers\n",
    "#    print(icoTriangCenters.shape,pt.shape)\n",
    "    return np.argmax(np.einsum('jk,kl->jl',icoTriangCenters,pt),axis=0)"
   ]
  },
  {
   "cell_type": "code",
   "execution_count": 41,
   "metadata": {},
   "outputs": [],
   "source": [
    "\"\"\"\n",
    " Verif1 : angle2FaceId_fullVectorized\n",
    " The icosahedres faces must be on their faces!\n",
    " N: the first N icoahedres faces to xcheck the einsum & argmax axis\n",
    "\"\"\" \n",
    "N = 15\n",
    "truth = np.arange(N)\n",
    "assert np.allclose(angle2FaceId_fullVectorized(angleicoTriangCenters[:N,:], icoTriangCenters),\n",
    "                   truth), \"Bug: The icosahedres faces must be on their faces!\""
   ]
  },
  {
   "cell_type": "code",
   "execution_count": 42,
   "metadata": {},
   "outputs": [],
   "source": [
    "\"\"\"\n",
    "Verif2 : angle2FaceId_fullVectorized \n",
    "draw random points on the sphere and plot location and face number\n",
    "\"\"\"\n",
    "Npts = 10  # ATTENTION Nptsx Npts points....\n",
    "theta,phi = np.mgrid[0:pi:Npts*1j, 0:2*pi:Npts*1j]\n",
    "\n",
    "\n",
    "\n",
    "someOnSpherePts = np.array([theta.reshape(-1,),phi.reshape(-1,)]).T\n",
    "\n",
    "x = np.sin(theta) * np.cos(phi)\n",
    "y = np.sin(theta) * np.sin(phi)\n",
    "z = np.cos(theta)\n",
    "\n",
    "pts = np.array([x.reshape(-1,),y.reshape(-1,),z.reshape(-1,)]).T\n",
    "\n",
    "faces = angle2FaceId_fullVectorized(someOnSpherePts, icoTriangCenters)\n",
    "\n",
    "\n",
    "\n",
    "nIcofaces = 20\n",
    "colors = cm.rainbow(np.linspace(0, 1, nIcofaces))\n",
    "\n",
    "fig = plt.figure()\n",
    "ax = Axes3D(fig)\n",
    "ax.set_xlabel(r'$X$', fontsize=20)\n",
    "ax.set_ylabel(r'$Y$', fontsize=20)\n",
    "ax.set_zlabel(r'$Z$', fontsize=20)  \n",
    "\n",
    "for k in range(Npts**2):\n",
    "    ax.scatter(pts[k,0],pts[k,1],pts[k,2],marker='o',s=1,color=colors[faces[k]])\n",
    "\n",
    "\n",
    "\n",
    "ax.set_xlabel(r'$X$', fontsize=20)\n",
    "ax.set_ylabel(r'$Y$', fontsize=20)\n",
    "ax.set_zlabel(r'$Z$', fontsize=20)\n",
    "ax.set_xlim3d([-1.1,1.1])\n",
    "ax.set_ylim3d([-1.1,1.1])\n",
    "ax.set_zlim3d([-1.1,1.1])\n",
    "plt.show()"
   ]
  },
  {
   "cell_type": "code",
   "execution_count": 43,
   "metadata": {},
   "outputs": [
    {
     "name": "stdout",
     "output_type": "stream",
     "text": [
      "Nbre de pts:  10000\n"
     ]
    }
   ],
   "source": [
    "Npts = 100  # ATTENTION Nptsx Npts points....\n",
    "theta,phi = np.mgrid[0:pi:Npts*1j, 0:2*pi:Npts*1j]\n",
    "someOnSpherePts = np.array([theta.reshape(-1,),phi.reshape(-1,)]).T\n",
    "print(\"Nbre de pts: \",someOnSpherePts.shape[0])"
   ]
  },
  {
   "cell_type": "code",
   "execution_count": 44,
   "metadata": {},
   "outputs": [
    {
     "name": "stdout",
     "output_type": "stream",
     "text": [
      "1.45 ms ± 38.7 µs per loop (mean ± std. dev. of 7 runs, 1000 loops each)\n"
     ]
    }
   ],
   "source": [
    "%%timeit\n",
    "\"\"\"\n",
    "Timing angle2FaceId_fullVectorized\n",
    "\"\"\"\n",
    "angle2FaceId_fullVectorized(someOnSpherePts, icoTriangCenters)"
   ]
  },
  {
   "cell_type": "markdown",
   "metadata": {},
   "source": [
    "# Vers le angle2pix"
   ]
  },
  {
   "cell_type": "markdown",
   "metadata": {},
   "source": [
    "# angle2Pix for a Point on a Face"
   ]
  },
  {
   "cell_type": "code",
   "execution_count": 45,
   "metadata": {},
   "outputs": [
    {
     "data": {
      "text/plain": [
       "array([[-5.55111512e-17, -0.00000000e+00,  1.00000000e+00],\n",
       "       [ 8.94427191e-01, -0.00000000e+00,  4.47213595e-01],\n",
       "       [ 2.76393202e-01,  8.50650808e-01,  4.47213595e-01],\n",
       "       [-7.23606798e-01,  5.25731112e-01,  4.47213595e-01],\n",
       "       [-7.23606798e-01, -5.25731112e-01,  4.47213595e-01],\n",
       "       [ 2.76393202e-01, -8.50650808e-01,  4.47213595e-01],\n",
       "       [ 5.55111512e-17, -0.00000000e+00, -1.00000000e+00],\n",
       "       [-8.94427191e-01, -0.00000000e+00, -4.47213595e-01],\n",
       "       [-2.76393202e-01,  8.50650808e-01, -4.47213595e-01],\n",
       "       [ 7.23606798e-01,  5.25731112e-01, -4.47213595e-01],\n",
       "       [ 7.23606798e-01, -5.25731112e-01, -4.47213595e-01],\n",
       "       [-2.76393202e-01, -8.50650808e-01, -4.47213595e-01]])"
      ]
     },
     "execution_count": 45,
     "metadata": {},
     "output_type": "execute_result"
    }
   ],
   "source": [
    "getIcosaedreVertices()"
   ]
  },
  {
   "cell_type": "code",
   "execution_count": 46,
   "metadata": {},
   "outputs": [],
   "source": [
    "icoTriangs = getIcoTriangs(modif=True)"
   ]
  },
  {
   "cell_type": "code",
   "execution_count": 47,
   "metadata": {},
   "outputs": [
    {
     "data": {
      "text/plain": [
       "array([0, 1, 2])"
      ]
     },
     "execution_count": 47,
     "metadata": {},
     "output_type": "execute_result"
    }
   ],
   "source": [
    "icoTriangs[0]"
   ]
  },
  {
   "cell_type": "code",
   "execution_count": 48,
   "metadata": {},
   "outputs": [],
   "source": [
    "#triplet of vertices of Face 0\n",
    "vertices0 = getIcosaedreVertices()[icoTriangs[0]]"
   ]
  },
  {
   "cell_type": "code",
   "execution_count": 49,
   "metadata": {},
   "outputs": [
    {
     "data": {
      "text/plain": [
       "array([[-5.55111512e-17, -0.00000000e+00,  1.00000000e+00],\n",
       "       [ 8.94427191e-01, -0.00000000e+00,  4.47213595e-01],\n",
       "       [ 2.76393202e-01,  8.50650808e-01,  4.47213595e-01]])"
      ]
     },
     "execution_count": 49,
     "metadata": {},
     "output_type": "execute_result"
    }
   ],
   "source": [
    "vertices0"
   ]
  },
  {
   "cell_type": "code",
   "execution_count": 50,
   "metadata": {},
   "outputs": [],
   "source": [
    "#triplet of vertices of Face 1\n",
    "vertices1 = getIcosaedreVertices()[icoTriangs[1]]"
   ]
  },
  {
   "cell_type": "code",
   "execution_count": 51,
   "metadata": {},
   "outputs": [
    {
     "data": {
      "text/plain": [
       "array([[-5.55111512e-17, -0.00000000e+00,  1.00000000e+00],\n",
       "       [ 2.76393202e-01,  8.50650808e-01,  4.47213595e-01],\n",
       "       [-7.23606798e-01,  5.25731112e-01,  4.47213595e-01]])"
      ]
     },
     "execution_count": 51,
     "metadata": {},
     "output_type": "execute_result"
    }
   ],
   "source": [
    "vertices1"
   ]
  },
  {
   "cell_type": "code",
   "execution_count": 52,
   "metadata": {},
   "outputs": [
    {
     "data": {
      "text/plain": [
       "array([ 0,  1,  2,  3,  4,  5,  6,  7,  8,  9, 10, 11, 12, 13, 14, 15, 16,\n",
       "       17, 18, 19])"
      ]
     },
     "execution_count": 52,
     "metadata": {},
     "output_type": "execute_result"
    }
   ],
   "source": [
    "angle2FaceId_fullVectorized(angleicoTriangCenters, icoTriangCenters)"
   ]
  },
  {
   "cell_type": "code",
   "execution_count": 53,
   "metadata": {},
   "outputs": [
    {
     "data": {
      "text/plain": [
       "array([[0.65235814, 0.62831853],\n",
       "       [0.65235814, 1.88495559],\n",
       "       [0.65235814, 3.14159265],\n",
       "       [0.65235814, 4.39822972],\n",
       "       [0.65235814, 5.65486678],\n",
       "       [2.48923451, 2.51327412],\n",
       "       [2.48923451, 3.76991118],\n",
       "       [2.48923451, 5.02654825],\n",
       "       [2.48923451, 0.        ],\n",
       "       [2.48923451, 1.25663706],\n",
       "       [1.3820858 , 0.62831853],\n",
       "       [1.3820858 , 1.88495559],\n",
       "       [1.3820858 , 3.14159265],\n",
       "       [1.3820858 , 4.39822972],\n",
       "       [1.3820858 , 5.65486678],\n",
       "       [1.75950686, 0.        ],\n",
       "       [1.75950686, 1.25663706],\n",
       "       [1.75950686, 2.51327412],\n",
       "       [1.75950686, 3.76991118],\n",
       "       [1.75950686, 5.02654825]])"
      ]
     },
     "execution_count": 53,
     "metadata": {},
     "output_type": "execute_result"
    }
   ],
   "source": [
    "angleicoTriangCenters"
   ]
  },
  {
   "cell_type": "code",
   "execution_count": 54,
   "metadata": {},
   "outputs": [],
   "source": [
    "# 1 point dans la face 1\n",
    "# si on prend le barycentre entre les sommets de \n",
    "a=0.1\n",
    "b=0.7\n",
    "pt1 = a * vertices1[0] + b * vertices1[1] + (1-a-b) * vertices1[2]\n",
    "pt1 = pt1[np.newaxis,:]"
   ]
  },
  {
   "cell_type": "code",
   "execution_count": 55,
   "metadata": {},
   "outputs": [
    {
     "data": {
      "text/plain": [
       "(1, 3)"
      ]
     },
     "execution_count": 55,
     "metadata": {},
     "output_type": "execute_result"
    }
   ],
   "source": [
    "pt1.shape"
   ]
  },
  {
   "cell_type": "code",
   "execution_count": 56,
   "metadata": {},
   "outputs": [],
   "source": [
    "#matrice de Face I a Face 0\n",
    "mtxI20 = getFaceIToface0Mtx()\n",
    "mtx120 = mtxI20[1]"
   ]
  },
  {
   "cell_type": "code",
   "execution_count": 57,
   "metadata": {},
   "outputs": [],
   "source": [
    "#rotate to get the corresponding point on face0\n",
    "pt0 = np.matmul(mtx120,pt1.T).T"
   ]
  },
  {
   "cell_type": "code",
   "execution_count": 58,
   "metadata": {},
   "outputs": [],
   "source": [
    "fig = plt.figure()\n",
    "ax = Axes3D(fig)\n",
    "ax.set_xlabel(r'$X$', fontsize=20)\n",
    "ax.set_ylabel(r'$Y$', fontsize=20)\n",
    "ax.set_zlabel(r'$Z$', fontsize=20)  \n",
    "\n",
    "ax.scatter(vertices1[:,0],vertices1[:,1],vertices1[:,2],marker='o',s=1,color='k')\n",
    "\n",
    "\n",
    "\n",
    "ax.scatter(pt1[:,0],pt1[:,1],pt1[:,2],marker='o',s=10,color='r')\n",
    "\n",
    "ax.scatter(pt0[:,0],pt0[:,1],pt0[:,2],marker='o',s=10,color='blue')\n",
    "\n",
    "\n",
    "ax.add_collection3d(Poly3DCollection([vertices1], facecolors = 'white', edgecolors='k', linewidths=1, alpha=0.5))\n",
    "ax.add_collection3d(Poly3DCollection([vertices0], facecolors = 'lightblue', edgecolors='k', linewidths=1, alpha=0.5))\n",
    "\n",
    "\n",
    "ax.set_xlabel(r'$X$', fontsize=20)\n",
    "ax.set_ylabel(r'$Y$', fontsize=20)\n",
    "ax.set_zlabel(r'$Z$', fontsize=20)\n",
    "ax.set_xlim3d([-1.1,1.1])\n",
    "ax.set_ylim3d([-1.1,1.1])\n",
    "ax.set_zlim3d([-1.1,1.1])\n",
    "plt.show()"
   ]
  },
  {
   "cell_type": "code",
   "execution_count": 59,
   "metadata": {},
   "outputs": [],
   "source": [
    "def getBarycentricCoord(pt,face):\n",
    "    \"\"\"\n",
    "        pt (x,y,z) \n",
    "        face : index\n",
    "        pt should be already ON the face\n",
    "    \"\"\"\n",
    "    icoTriangs = getIcoTriangs(modif=True)\n",
    "    #triplet of vertices of Face\n",
    "    vertices = getIcosaedreVertices()[icoTriangs[face]]\n",
    "    #\n",
    "    vec0 = vertices[0][np.newaxis,:]-pt\n",
    "    vec1 = vertices[1][np.newaxis,:]-pt\n",
    "    vec2 = vertices[2][np.newaxis,:]-pt\n",
    "    # 2 fois l'aire d'un des 20 triangles equilateraux \n",
    "    aire0 = sqrt(3)/2/sin(2*pi/5)**2\n",
    "    #retreive barycentric coordinate\n",
    "    a0 = np.cross(vec1,vec2)\n",
    "    a0 = np.sqrt((a0*a0).sum(axis=1))/aire0\n",
    "    a1 = np.cross(vec2,vec0)\n",
    "    a1 = np.sqrt((a1*a1).sum(axis=1))/aire0\n",
    "    return a0[0],a1[0]"
   ]
  },
  {
   "cell_type": "markdown",
   "metadata": {},
   "source": [
    "# find barycentric coordinate of a 3D pt on the sphere projected onto the corresponding icosahedron triangle"
   ]
  },
  {
   "cell_type": "code",
   "execution_count": 60,
   "metadata": {},
   "outputs": [],
   "source": [
    "def getBarycentricCoordExtension(pt,icoTriangs,vertices,face):\n",
    "    \"\"\"\n",
    "        pt (x,y,z) on the sphere\n",
    "        face: index of icosahedron face\n",
    "        vertices: triplet of vertices of the icosahedron face\n",
    "    \"\"\"\n",
    "    u = vertices[1][np.newaxis,:]-vertices[0][np.newaxis,:]\n",
    "    v = vertices[2][np.newaxis,:]-vertices[0][np.newaxis,:]\n",
    "    w = pt - vertices[0][np.newaxis,:]\n",
    "    # S=[u,v,OPshere]\n",
    "    smtx = np.vstack((u,v,pt)).T\n",
    "    null = np.zeros_like(u)\n",
    "    mtx1 = np.vstack((u,v,null)).T\n",
    "    smtxinv = np.linalg.inv(smtx)\n",
    "    mtx2 = mtx1 @ smtxinv\n",
    "    #OPproj on planar traingle = OV0 + S diag(1,1,0) S^-1 V0Ps\n",
    "    pproj = np.dot(mtx2,w.T).T+vertices[0][np.newaxis,:]\n",
    "    return getBarycentricCoord(pproj,face)\n",
    "    "
   ]
  },
  {
   "cell_type": "code",
   "execution_count": 61,
   "metadata": {},
   "outputs": [],
   "source": [
    "def testBaryCoordExt(a=0.1,b=0.7):\n",
    "    \"\"\"\n",
    "    Test of getBarycentricCoordExtension method\n",
    "    input: (a,b) barycentric coordinates of a pt on each icosahedron triangle\n",
    "    process:\n",
    "       from (a,b) find the pt on the trinagle surface\n",
    "       project this point on to the sphere\n",
    "       then call getBarycentricCoordExtension which perform the inverse \n",
    "         - retreive the pt on the triangle surface\n",
    "         - retreive the barycentric coordinates\n",
    "    \"\"\"\n",
    "    nFaces = 20\n",
    "    assert a>=0 and a<=1 and b>=0 and b<=1 and a+b <=1, \"a in [0,1], b in [0,1] and a+b in [0,1]\"\n",
    "    icoTriangs = getIcoTriangs(modif=True)\n",
    "    for i in range(nFaces):\n",
    "        #triangle i vertices\n",
    "        vertices = getIcosaedreVertices()[icoTriangs[i]]\n",
    "        #The pt at the surface  triangle as barycenter of the vertices\n",
    "        ptOnFace = a * vertices[0] + b * vertices[1] + (1-a-b) * vertices[2]\n",
    "        #put it on the sphere\n",
    "        ptOnsphere = ptOnFace/np.sqrt(np.sum(ptOnFace*ptOnFace))\n",
    "        #retreive the (a,b) coordinate\n",
    "        an,bn = getBarycentricCoordExtension(ptOnsphere,icoTriangs,vertices,i)\n",
    "        if np.isclose(an,a) and np.isclose(bn,b):\n",
    "            print(f\"test on face {i} Ok\")\n",
    "        else:\n",
    "            print(f\"test on face {i} NOK: {a} != {an} or {b} != {bn}\")"
   ]
  },
  {
   "cell_type": "code",
   "execution_count": 62,
   "metadata": {},
   "outputs": [
    {
     "name": "stdout",
     "output_type": "stream",
     "text": [
      "test on face 0 Ok\n",
      "test on face 1 Ok\n",
      "test on face 2 Ok\n",
      "test on face 3 Ok\n",
      "test on face 4 Ok\n",
      "test on face 5 Ok\n",
      "test on face 6 Ok\n",
      "test on face 7 Ok\n",
      "test on face 8 Ok\n",
      "test on face 9 Ok\n",
      "test on face 10 Ok\n",
      "test on face 11 Ok\n",
      "test on face 12 Ok\n",
      "test on face 13 Ok\n",
      "test on face 14 Ok\n",
      "test on face 15 Ok\n",
      "test on face 16 Ok\n",
      "test on face 17 Ok\n",
      "test on face 18 Ok\n",
      "test on face 19 Ok\n"
     ]
    }
   ],
   "source": [
    "testBaryCoordExt()"
   ]
  },
  {
   "cell_type": "markdown",
   "metadata": {},
   "source": [
    "# Find hexagone index once the barycentric coordinates are found \n",
    "on suppose que l'on est sur la face 0"
   ]
  },
  {
   "cell_type": "markdown",
   "metadata": {},
   "source": [
    "Prenons la face 0: avec les coord barycentriques des centres des hexag. peut-on retrouver leurs indices (i,j)? "
   ]
  },
  {
   "cell_type": "code",
   "execution_count": 63,
   "metadata": {},
   "outputs": [],
   "source": [
    "#get the locations of the hexagons vertices (faces), centers, index and types\n",
    "norder=5\n",
    "faces0, centers0, indexes0, types0 = buildFace0(n=norder)\n",
    "#put the infos on a Pandas DF (necessary? pour le merge des tuiles a cheval sur des faces....\n",
    "df = pd.DataFrame(columns=['idx','type','center','vertices'])\n",
    "df['idx']=indexes0\n",
    "df['type']=types0\n",
    "df['center']=centers0\n",
    "df['vertices']=faces0"
   ]
  },
  {
   "cell_type": "markdown",
   "metadata": {},
   "source": [
    "Trouver les coord barycentrique des centres des tuiles hexa "
   ]
  },
  {
   "cell_type": "code",
   "execution_count": 64,
   "metadata": {},
   "outputs": [],
   "source": [
    "#on est sur la face 0 de l'icosaedre\n",
    "face=0\n",
    "icoTriangs = getIcoTriangs(modif=True)\n",
    "vertices0 = getIcosaedreVertices()[icoTriangs[face]]\n",
    "df['baryCoord']=df['center'].map(lambda pt: list(getBarycentricCoordExtension(pt,icoTriangs,vertices0,face)))"
   ]
  },
  {
   "cell_type": "code",
   "execution_count": 65,
   "metadata": {},
   "outputs": [
    {
     "data": {
      "text/html": [
       "<div>\n",
       "<style scoped>\n",
       "    .dataframe tbody tr th:only-of-type {\n",
       "        vertical-align: middle;\n",
       "    }\n",
       "\n",
       "    .dataframe tbody tr th {\n",
       "        vertical-align: top;\n",
       "    }\n",
       "\n",
       "    .dataframe thead th {\n",
       "        text-align: right;\n",
       "    }\n",
       "</style>\n",
       "<table border=\"1\" class=\"dataframe\">\n",
       "  <thead>\n",
       "    <tr style=\"text-align: right;\">\n",
       "      <th></th>\n",
       "      <th>idx</th>\n",
       "      <th>type</th>\n",
       "      <th>center</th>\n",
       "      <th>vertices</th>\n",
       "      <th>baryCoord</th>\n",
       "    </tr>\n",
       "  </thead>\n",
       "  <tbody>\n",
       "    <tr>\n",
       "      <th>0</th>\n",
       "      <td>(0, 0, 1)</td>\n",
       "      <td>3</td>\n",
       "      <td>[0.06786775932272442, 0.20887548557252147, 0.9...</td>\n",
       "      <td>[[0.034142924270638544, 0.09835610795699426, 0...</td>\n",
       "      <td>[0.7790484566122103, 4.4231880650536506e-17]</td>\n",
       "    </tr>\n",
       "    <tr>\n",
       "      <th>1</th>\n",
       "      <td>(0, 0, 2)</td>\n",
       "      <td>2</td>\n",
       "      <td>[0.13242145989026327, 0.4075513470729765, 0.90...</td>\n",
       "      <td>[[0.10076153555175085, 0.17002658941939489, 0....</td>\n",
       "      <td>[0.589937993581286, 4.915313046367835e-17]</td>\n",
       "    </tr>\n",
       "    <tr>\n",
       "      <th>2</th>\n",
       "      <td>(0, 0, 3)</td>\n",
       "      <td>2</td>\n",
       "      <td>[0.19050887215090562, 0.5863260195046678, 0.78...</td>\n",
       "      <td>[[0.1624598481164531, 0.2357529213528708, 0.33...</td>\n",
       "      <td>[0.4100620064187139, 1.4584776495311302e-16]</td>\n",
       "    </tr>\n",
       "    <tr>\n",
       "      <th>3</th>\n",
       "      <td>(0, 0, 4)</td>\n",
       "      <td>4</td>\n",
       "      <td>[0.23929352265850395, 0.7364697352387511, 0.63...</td>\n",
       "      <td>[[0.21622506420958543, 0.29213973417708483, 0....</td>\n",
       "      <td>[0.22095154338778952, 1.0249136197704844e-17]</td>\n",
       "    </tr>\n",
       "    <tr>\n",
       "      <th>4</th>\n",
       "      <td>(0, 1, 0)</td>\n",
       "      <td>4</td>\n",
       "      <td>[0.21962468264893142, 0.0, 0.9755844395906261]</td>\n",
       "      <td>[[0.32607117856272777, 0.319753439121243, 0.19...</td>\n",
       "      <td>[0.7790484566122106, 0.22095154338778955]</td>\n",
       "    </tr>\n",
       "    <tr>\n",
       "      <th>5</th>\n",
       "      <td>(0, 1, 1)</td>\n",
       "      <td>1</td>\n",
       "      <td>[0.30046817837886336, 0.2037316005575068, 0.93...</td>\n",
       "      <td>[[0.27241881657791567, 0.4002575358264609, 0.4...</td>\n",
       "      <td>[0.585242915515198, 0.2166521916309614]</td>\n",
       "    </tr>\n",
       "    <tr>\n",
       "      <th>6</th>\n",
       "      <td>(0, 1, 2)</td>\n",
       "      <td>1</td>\n",
       "      <td>[0.3726702734775735, 0.39704777294056903, 0.83...</td>\n",
       "      <td>[[0.336529833499716, 0.46760010014212455, 0.49...</td>\n",
       "      <td>[0.40739503687122836, 0.2184024192980892]</td>\n",
       "    </tr>\n",
       "    <tr>\n",
       "      <th>7</th>\n",
       "      <td>(0, 1, 3)</td>\n",
       "      <td>1</td>\n",
       "      <td>[0.43081409459416387, 0.5731405192306599, 0.69...</td>\n",
       "      <td>[[0.3861152381111796, 0.5114833159035735, 0.55...</td>\n",
       "      <td>[0.2240210672244656, 0.22402106722446555]</td>\n",
       "    </tr>\n",
       "    <tr>\n",
       "      <th>8</th>\n",
       "      <td>(0, 1, 4)</td>\n",
       "      <td>3</td>\n",
       "      <td>[0.4589182053074355, 0.7364697352387511, 0.496...</td>\n",
       "      <td>[[0.3699205919586721, 0.33432452376826854, 0.3...</td>\n",
       "      <td>[3.196540348535435e-17, 0.22095154338778955]</td>\n",
       "    </tr>\n",
       "    <tr>\n",
       "      <th>9</th>\n",
       "      <td>(0, 2, 0)</td>\n",
       "      <td>2</td>\n",
       "      <td>[0.4285248458846539, 0.0, 0.9035299975427121]</td>\n",
       "      <td>[[0.5257311121191336, 0.5245226969117223, 0.41...</td>\n",
       "      <td>[0.589937993581286, 0.41006200641871404]</td>\n",
       "    </tr>\n",
       "    <tr>\n",
       "      <th>10</th>\n",
       "      <td>(0, 2, 1)</td>\n",
       "      <td>1</td>\n",
       "      <td>[0.5148886808366244, 0.20204388065834564, 0.83...</td>\n",
       "      <td>[[0.49579759863784467, 0.6046595145198651, 0.6...</td>\n",
       "      <td>[0.404385116277753, 0.4043851162777528]</td>\n",
       "    </tr>\n",
       "    <tr>\n",
       "      <th>11</th>\n",
       "      <td>(0, 2, 2)</td>\n",
       "      <td>1</td>\n",
       "      <td>[0.5835207289159167, 0.3970477729405691, 0.708...</td>\n",
       "      <td>[[0.5524663041202873, 0.6582143946407005, 0.68...</td>\n",
       "      <td>[0.21840241929808904, 0.4073950368712285]</td>\n",
       "    </tr>\n",
       "    <tr>\n",
       "      <th>12</th>\n",
       "      <td>(0, 2, 3)</td>\n",
       "      <td>2</td>\n",
       "      <td>[0.6190337180355597, 0.586326019504668, 0.5225...</td>\n",
       "      <td>[[0.5422962427723133, 0.5114833159035735, 0.55...</td>\n",
       "      <td>[2.745336789163213e-16, 0.41006200641871404]</td>\n",
       "    </tr>\n",
       "    <tr>\n",
       "      <th>13</th>\n",
       "      <td>(0, 3, 0)</td>\n",
       "      <td>2</td>\n",
       "      <td>[0.6164996605971476, 0.0, 0.7873551730214273]</td>\n",
       "      <td>[[0.6997190062214753, 0.7022746568430198, 0.61...</td>\n",
       "      <td>[0.41006200641871393, 0.589937993581286]</td>\n",
       "    </tr>\n",
       "    <tr>\n",
       "      <th>14</th>\n",
       "      <td>(0, 3, 1)</td>\n",
       "      <td>1</td>\n",
       "      <td>[0.6990351170677304, 0.20373160055750683, 0.68...</td>\n",
       "      <td>[[0.6844764034835562, 0.7706624750344351, 0.77...</td>\n",
       "      <td>[0.21665219163096133, 0.5852429155151981]</td>\n",
       "    </tr>\n",
       "    <tr>\n",
       "      <th>15</th>\n",
       "      <td>(0, 3, 2)</td>\n",
       "      <td>2</td>\n",
       "      <td>[0.748921120487411, 0.40755134707297663, 0.522...</td>\n",
       "      <td>[[0.688190960235587, 0.6582143946407005, 0.684...</td>\n",
       "      <td>[2.4732969562608086e-16, 0.5899379935812857]</td>\n",
       "    </tr>\n",
       "    <tr>\n",
       "      <th>16</th>\n",
       "      <td>(0, 4, 0)</td>\n",
       "      <td>3</td>\n",
       "      <td>[0.774370105898305, 0.0, 0.6327329129190673]</td>\n",
       "      <td>[[0.8395388369918425, 0.8439310183469103, 0.77...</td>\n",
       "      <td>[0.22095154338778963, 0.7790484566122103]</td>\n",
       "    </tr>\n",
       "    <tr>\n",
       "      <th>17</th>\n",
       "      <td>(0, 4, 1)</td>\n",
       "      <td>4</td>\n",
       "      <td>[0.8422378652210296, 0.2088754855725215, 0.496...</td>\n",
       "      <td>[[0.8004805417732265, 0.7706624750344354, 0.77...</td>\n",
       "      <td>[1.2583471806334429e-16, 0.7790484566122103]</td>\n",
       "    </tr>\n",
       "  </tbody>\n",
       "</table>\n",
       "</div>"
      ],
      "text/plain": [
       "          idx  type                                             center  \\\n",
       "0   (0, 0, 1)     3  [0.06786775932272442, 0.20887548557252147, 0.9...   \n",
       "1   (0, 0, 2)     2  [0.13242145989026327, 0.4075513470729765, 0.90...   \n",
       "2   (0, 0, 3)     2  [0.19050887215090562, 0.5863260195046678, 0.78...   \n",
       "3   (0, 0, 4)     4  [0.23929352265850395, 0.7364697352387511, 0.63...   \n",
       "4   (0, 1, 0)     4     [0.21962468264893142, 0.0, 0.9755844395906261]   \n",
       "5   (0, 1, 1)     1  [0.30046817837886336, 0.2037316005575068, 0.93...   \n",
       "6   (0, 1, 2)     1  [0.3726702734775735, 0.39704777294056903, 0.83...   \n",
       "7   (0, 1, 3)     1  [0.43081409459416387, 0.5731405192306599, 0.69...   \n",
       "8   (0, 1, 4)     3  [0.4589182053074355, 0.7364697352387511, 0.496...   \n",
       "9   (0, 2, 0)     2      [0.4285248458846539, 0.0, 0.9035299975427121]   \n",
       "10  (0, 2, 1)     1  [0.5148886808366244, 0.20204388065834564, 0.83...   \n",
       "11  (0, 2, 2)     1  [0.5835207289159167, 0.3970477729405691, 0.708...   \n",
       "12  (0, 2, 3)     2  [0.6190337180355597, 0.586326019504668, 0.5225...   \n",
       "13  (0, 3, 0)     2      [0.6164996605971476, 0.0, 0.7873551730214273]   \n",
       "14  (0, 3, 1)     1  [0.6990351170677304, 0.20373160055750683, 0.68...   \n",
       "15  (0, 3, 2)     2  [0.748921120487411, 0.40755134707297663, 0.522...   \n",
       "16  (0, 4, 0)     3       [0.774370105898305, 0.0, 0.6327329129190673]   \n",
       "17  (0, 4, 1)     4  [0.8422378652210296, 0.2088754855725215, 0.496...   \n",
       "\n",
       "                                             vertices  \\\n",
       "0   [[0.034142924270638544, 0.09835610795699426, 0...   \n",
       "1   [[0.10076153555175085, 0.17002658941939489, 0....   \n",
       "2   [[0.1624598481164531, 0.2357529213528708, 0.33...   \n",
       "3   [[0.21622506420958543, 0.29213973417708483, 0....   \n",
       "4   [[0.32607117856272777, 0.319753439121243, 0.19...   \n",
       "5   [[0.27241881657791567, 0.4002575358264609, 0.4...   \n",
       "6   [[0.336529833499716, 0.46760010014212455, 0.49...   \n",
       "7   [[0.3861152381111796, 0.5114833159035735, 0.55...   \n",
       "8   [[0.3699205919586721, 0.33432452376826854, 0.3...   \n",
       "9   [[0.5257311121191336, 0.5245226969117223, 0.41...   \n",
       "10  [[0.49579759863784467, 0.6046595145198651, 0.6...   \n",
       "11  [[0.5524663041202873, 0.6582143946407005, 0.68...   \n",
       "12  [[0.5422962427723133, 0.5114833159035735, 0.55...   \n",
       "13  [[0.6997190062214753, 0.7022746568430198, 0.61...   \n",
       "14  [[0.6844764034835562, 0.7706624750344351, 0.77...   \n",
       "15  [[0.688190960235587, 0.6582143946407005, 0.684...   \n",
       "16  [[0.8395388369918425, 0.8439310183469103, 0.77...   \n",
       "17  [[0.8004805417732265, 0.7706624750344354, 0.77...   \n",
       "\n",
       "                                        baryCoord  \n",
       "0    [0.7790484566122103, 4.4231880650536506e-17]  \n",
       "1      [0.589937993581286, 4.915313046367835e-17]  \n",
       "2    [0.4100620064187139, 1.4584776495311302e-16]  \n",
       "3   [0.22095154338778952, 1.0249136197704844e-17]  \n",
       "4       [0.7790484566122106, 0.22095154338778955]  \n",
       "5         [0.585242915515198, 0.2166521916309614]  \n",
       "6       [0.40739503687122836, 0.2184024192980892]  \n",
       "7       [0.2240210672244656, 0.22402106722446555]  \n",
       "8    [3.196540348535435e-17, 0.22095154338778955]  \n",
       "9        [0.589937993581286, 0.41006200641871404]  \n",
       "10        [0.404385116277753, 0.4043851162777528]  \n",
       "11      [0.21840241929808904, 0.4073950368712285]  \n",
       "12   [2.745336789163213e-16, 0.41006200641871404]  \n",
       "13       [0.41006200641871393, 0.589937993581286]  \n",
       "14      [0.21665219163096133, 0.5852429155151981]  \n",
       "15   [2.4732969562608086e-16, 0.5899379935812857]  \n",
       "16      [0.22095154338778963, 0.7790484566122103]  \n",
       "17   [1.2583471806334429e-16, 0.7790484566122103]  "
      ]
     },
     "execution_count": 65,
     "metadata": {},
     "output_type": "execute_result"
    }
   ],
   "source": [
    "df"
   ]
  },
  {
   "cell_type": "code",
   "execution_count": 66,
   "metadata": {},
   "outputs": [
    {
     "data": {
      "text/plain": [
       "idx                                                  (0, 2, 2)\n",
       "type                                                         1\n",
       "center       [0.5835207289159167, 0.3970477729405691, 0.708...\n",
       "vertices     [[0.5524663041202873, 0.6582143946407005, 0.68...\n",
       "baryCoord            [0.21840241929808904, 0.4073950368712285]\n",
       "Name: 11, dtype: object"
      ]
     },
     "execution_count": 66,
     "metadata": {},
     "output_type": "execute_result"
    }
   ],
   "source": [
    "df.iloc[11]"
   ]
  },
  {
   "cell_type": "markdown",
   "metadata": {},
   "source": [
    "test avec la tuile 11"
   ]
  },
  {
   "cell_type": "code",
   "execution_count": 67,
   "metadata": {},
   "outputs": [
    {
     "name": "stdout",
     "output_type": "stream",
     "text": [
      "a,b:  0.21840241929808904 0.4073950368712285  idx: (0, 2, 2)\n",
      "i,j approx:  2 2\n"
     ]
    }
   ],
   "source": [
    "norder = 5\n",
    "a,b = df.iloc[11]['baryCoord']\n",
    "print(\"a,b: \",a,b,' idx:', df.iloc[11]['idx'])\n",
    "# (x,y) of the pt\n",
    "xp=(b-a)/2\n",
    "yp=(1-a-b)*sqrt(3)/2\n",
    "# (i,j) index\n",
    "ihexa = int(round(norder*b))\n",
    "jhexa = int(round(norder*(1-a-b)))\n",
    "print(\"i,j approx: \",ihexa,jhexa)"
   ]
  },
  {
   "cell_type": "markdown",
   "metadata": {},
   "source": [
    "Appliquons la methdoe de rounding sur l'ensemble des centres des tuiles"
   ]
  },
  {
   "cell_type": "code",
   "execution_count": 68,
   "metadata": {},
   "outputs": [],
   "source": [
    "def ijapp(x, norder=5):\n",
    "    a = x[0]\n",
    "    b = x[1]\n",
    "    ihexa = int(round(norder*b))\n",
    "    jhexa = int(round(norder*(1-a-b)))\n",
    "    return (0,ihexa,jhexa)"
   ]
  },
  {
   "cell_type": "code",
   "execution_count": 69,
   "metadata": {},
   "outputs": [],
   "source": [
    "df['idxApp']=df['baryCoord'].apply(ijapp)"
   ]
  },
  {
   "cell_type": "code",
   "execution_count": 70,
   "metadata": {},
   "outputs": [
    {
     "data": {
      "text/plain": [
       "0     True\n",
       "1     True\n",
       "2     True\n",
       "3     True\n",
       "4     True\n",
       "5     True\n",
       "6     True\n",
       "7     True\n",
       "8     True\n",
       "9     True\n",
       "10    True\n",
       "11    True\n",
       "12    True\n",
       "13    True\n",
       "14    True\n",
       "15    True\n",
       "16    True\n",
       "17    True\n",
       "dtype: bool"
      ]
     },
     "execution_count": 70,
     "metadata": {},
     "output_type": "execute_result"
    }
   ],
   "source": [
    "df['idx']==df['idxApp']"
   ]
  },
  {
   "cell_type": "markdown",
   "metadata": {},
   "source": [
    "Donc ca marche pour les centres des tuiles hexagonales. Maintenant quel est la zone geographique sur la sphere qui donne le même (i,j) ? "
   ]
  },
  {
   "cell_type": "code",
   "execution_count": 71,
   "metadata": {},
   "outputs": [
    {
     "data": {
      "text/plain": [
       "'\\n#\\n#    x,y = -1/2,0\\n#    scale = 1/(n*sqrt(3)) \\n#hexagcenter = np.array([x+i*1/n+j*1/(2*n), y+j*sqrt(3)/(2*n)])\\n# bottom left corner\\nxlc,ylc = -1/2,0\\nnorder = 5\\n# (a,b) bary of pt\\na=0.1\\nb=0.7\\n# We are on Face 0\\nicoTriangs = getIcoTriangs(modif=True)\\nicoVertices0 = getIcosaedreVertices()[icoTriangs[0]]\\n#\\n### Attention    0\\n###             /  ##             /    ##            1      2\\n## les coord de V0(0,sqrt(3)/2) V1(-1/2,0) et V2(1/2,0)\\n### avec ptOnFace = a * icoVertices0[0] + b * icoVertices0[1] + (1-a-b) * icoVertices0[2]\\n##   a=b=1/2 se trouve au milieu du segment [V0, V1]\\n\\nptOnFace = a * icoVertices0[0] + b * icoVertices0[1] + (1-a-b) * icoVertices0[2]\\n\\nptOnSphere = ptOnFace/np.sqrt(np.sum(ptOnFace*ptOnFace))\\n\\n# (x,y) of the pt\\nxp=(b-a)/2\\nyp=(1-a-b)*sqrt(3)/2\\n# (i,j) index\\nihexa = int(round(norder*b))\\njhexa = np.ceil(norder*(1-a-b)).astype(np.int64) \\n'"
      ]
     },
     "execution_count": 71,
     "metadata": {},
     "output_type": "execute_result"
    }
   ],
   "source": [
    "\"\"\"\n",
    "#\n",
    "#    x,y = -1/2,0\n",
    "#    scale = 1/(n*sqrt(3)) \n",
    "#hexagcenter = np.array([x+i*1/n+j*1/(2*n), y+j*sqrt(3)/(2*n)])\n",
    "# bottom left corner\n",
    "xlc,ylc = -1/2,0\n",
    "norder = 5\n",
    "# (a,b) bary of pt\n",
    "a=0.1\n",
    "b=0.7\n",
    "# We are on Face 0\n",
    "icoTriangs = getIcoTriangs(modif=True)\n",
    "icoVertices0 = getIcosaedreVertices()[icoTriangs[0]]\n",
    "#\n",
    "### Attention    0\n",
    "###             /  \\\n",
    "##             /    \\\n",
    "##            1      2\n",
    "## les coord de V0(0,sqrt(3)/2) V1(-1/2,0) et V2(1/2,0)\n",
    "### avec ptOnFace = a * icoVertices0[0] + b * icoVertices0[1] + (1-a-b) * icoVertices0[2]\n",
    "##   a=b=1/2 se trouve au milieu du segment [V0, V1]\n",
    "\n",
    "ptOnFace = a * icoVertices0[0] + b * icoVertices0[1] + (1-a-b) * icoVertices0[2]\n",
    "\n",
    "ptOnSphere = ptOnFace/np.sqrt(np.sum(ptOnFace*ptOnFace))\n",
    "\n",
    "# (x,y) of the pt\n",
    "xp=(b-a)/2\n",
    "yp=(1-a-b)*sqrt(3)/2\n",
    "# (i,j) index\n",
    "ihexa = int(round(norder*b))\n",
    "jhexa = np.ceil(norder*(1-a-b)).astype(np.int64) \n",
    "\"\"\""
   ]
  },
  {
   "cell_type": "code",
   "execution_count": 73,
   "metadata": {},
   "outputs": [],
   "source": [
    "def getHexInfos(i,j, n=5):        \n",
    "    if i==0:\n",
    "        th = -2*pi/3\n",
    "        if j==1:\n",
    "            opt = 3\n",
    "        elif j==n-i-1:\n",
    "            opt = 4\n",
    "        else:\n",
    "            opt = 2\n",
    "    elif j==n-i: \n",
    "        th = 2*pi/3\n",
    "        if i==1:\n",
    "            opt = 3\n",
    "        elif i==n-1:\n",
    "            opt = 4\n",
    "        else:\n",
    "            opt = 2\n",
    "    elif (j==0 and i != 0):\n",
    "        th = 0\n",
    "        if i==1:\n",
    "            opt = 4\n",
    "        elif i==n-1:\n",
    "            opt = 3\n",
    "        else:\n",
    "            opt = 2\n",
    "    else:\n",
    "        opt = 1\n",
    "        th = 0\n",
    "\n",
    "    return opt,th\n",
    "        "
   ]
  },
  {
   "cell_type": "code",
   "execution_count": 74,
   "metadata": {},
   "outputs": [],
   "source": [
    "def getHexagoneCenter(i,j,icoTriangs, icoPoints, x=-1/2,y=0,n=5):\n",
    "        hexagcenter = np.array([x+i*1/n+j*1/(2*n), y+j*sqrt(3)/(2*n)])\n",
    "        a = icoTriangs[0,0]\n",
    "        b = icoTriangs[0,1]\n",
    "        c = icoTriangs[0,2]\n",
    "        return getProjectedPt(hexagcenter,icoPoints,a,b,c)\n"
   ]
  },
  {
   "cell_type": "code",
   "execution_count": 95,
   "metadata": {},
   "outputs": [],
   "source": [
    "def findNeightboorsHexagCenter(a,b,n=5,full=True):\n",
    "    \"\"\"\n",
    "     implicit in the face 0 of the icosahedron\n",
    "     (a,b) : barycentric coordinates of the point\n",
    "     \n",
    "     ignoring edge-effect the 6 neightboors are\n",
    "             (i,j-1) (i-1,j)\n",
    "        (i+1,j-1) (i,j) (i-1,j+1)\n",
    "              (i+1,j) (i,j+1)            \n",
    "     \n",
    "    \"\"\"\n",
    "    c = 1-a-b        \n",
    "    bscaled = n*b\n",
    "    cscaled = n*c\n",
    "\n",
    "    # (i,j) index target    \n",
    "    i = int(round(bscaled))\n",
    "    j = int(round(cscaled))\n",
    "    \n",
    "    #Choose indexes of the hexagones to test for closest approach\n",
    "    if full:\n",
    "        indexes = [(i,j),(i,j-1),(i-1,j),(i-1,j+1),(i,j+1),(i+1,j),(i+1,j-1)]\n",
    "    else:\n",
    "        if bscaled >= i:\n",
    "            if cscaled >= j:\n",
    "                indexes = [(i,j),(i,j+1),(i+1,j)]\n",
    "            else:\n",
    "                indexes = [(i,j),(i,j-1),(i+1,j),(i+1,j-1)]\n",
    "        else:\n",
    "            if cscaled >= j:\n",
    "                indexes = [(i,j),(i-1,j),(i-1,j+1),(i,j+1)]\n",
    "            else:\n",
    "                indexes = [(i,j),(i,j-1),(i-1,j)]\n",
    "                \n",
    "                \n",
    "    # Voir BuildFace0\n",
    "    # localisation bottom left vertices\n",
    "    icoTriangs = getIcoTriangs(modif=True)\n",
    "    #icosedre vertices\n",
    "    icoPoints = getIcosaedreVertices()\n",
    "\n",
    "    centers = []\n",
    "    \n",
    "    for (ic,jc) in indexes:\n",
    "## On peut inclure les coins...     \n",
    "###exclude the hexagons at the vertices of the isocele triangle\n",
    "##        if (ic==0 and jc==0) or (ic==0 and jc==n) or (ic==n and jc==0):\n",
    "##            continue\n",
    "        \n",
    "        #on ne se sert pas du dataframe car on veut une fonction\n",
    "        center = getHexagoneCenter(ic,jc,icoTriangs,icoPoints, n=n)\n",
    "        #save\n",
    "        centers.append(center)\n",
    "    \n",
    "    return np.array(centers)\n",
    "        "
   ]
  },
  {
   "cell_type": "code",
   "execution_count": 76,
   "metadata": {},
   "outputs": [],
   "source": [
    "def findClosest(pt,pts):\n",
    "    \"\"\"\n",
    "    find the closest point to \"p\" in the list \"pts\"\n",
    "    p: (x,y,z)\n",
    "    pts : a list of (xi,yi,zi)\n",
    "    \n",
    "    \"\"\"\n",
    "    return np.argmax(np.einsum('jk,kl->jl',pts,pt[:,np.newaxis]),axis=0)"
   ]
  },
  {
   "cell_type": "code",
   "execution_count": 94,
   "metadata": {},
   "outputs": [
    {
     "name": "stdout",
     "output_type": "stream",
     "text": [
      "DescribeResult(nobs=5044, minmax=(3, 4), mean=3.5047581284694687, variance=0.25002692939058746, skewness=-0.01903337572051353, kurtosis=-1.9996377306086812)\n"
     ]
    }
   ],
   "source": [
    "fig = plt.figure()\n",
    "\n",
    "ax = Axes3D(fig)\n",
    "ax.set_xlabel(r'$X$', fontsize=20)\n",
    "ax.set_ylabel(r'$Y$', fontsize=20)\n",
    "ax.set_zlabel(r'$Z$', fontsize=20)    \n",
    "colors = cm.rainbow(np.linspace(0, 1, nfaces))\n",
    "\n",
    "icoTriangs = getIcoTriangs(modif=True)\n",
    "\n",
    "#icosedre vertices\n",
    "icoPoints = getIcosaedreVertices()\n",
    "face=0\n",
    "icoVertices0 = icoPoints[icoTriangs[face]]\n",
    "# ordre de la pixelization\n",
    "norder = 7\n",
    "\n",
    "#Draw face 0 \n",
    "plotFaceI(k=face, ax=ax, n=norder)\n",
    "\n",
    "#index of a target hexagon\n",
    "itest = 0\n",
    "jtest = 0\n",
    "# target hexagon center\n",
    "xyzTest = getHexagoneCenter(itest,jtest,icoTriangs, icoPoints,n=norder)\n",
    "ax.scatter(xyzTest[0],xyzTest[1],xyzTest[2],marker='o',color='blue')\n",
    "\n",
    "\n",
    "#tirage de pts dans le triangle equilateral\n",
    "arr = np.linspace(0,1,100)\n",
    "brr = np.linspace(0,1,100)\n",
    "ntests = []\n",
    "for i in range(arr.shape[0]):\n",
    "    a0 = arr[i]\n",
    "    for j in range(brr.shape[0]):\n",
    "        b0 = brr[j]\n",
    "        if a0+b0>1: \n",
    "            continue\n",
    "        c0 = 1-a0-b0\n",
    "        #coord du pt dans le traingle plat\n",
    "        ptOnFace = a0 * icoVertices0[0] + b0 * icoVertices0[1] + c0 * icoVertices0[2]\n",
    "        #coord du pt dans le traingle spherique\n",
    "        ptOnSphere = ptOnFace/np.sqrt(np.sum(ptOnFace*ptOnFace))\n",
    "        #get a,b (in fact it is a0,b0 but this is just to be more realistic)\n",
    "        a,b = getBarycentricCoordExtension(ptOnSphere,icoTriangs,vertices0,face)\n",
    "#        print(a0,b0,a,b)\n",
    "        #centres des hexagones cibles\n",
    "        centernbs = findNeightboorsHexagCenter(a,b,n=norder,full=False)\n",
    "        ntests.append(centernbs.shape[0])\n",
    "        #le plus proche de ptOnSphere\n",
    "        iloc = findClosest(ptOnSphere,centernbs)\n",
    "        centerClosest = centernbs[iloc]\n",
    "        #    ptOnSphere is close to the center of target hexagon\n",
    "        if(np.allclose(centerClosest,xyzTest)):\n",
    "            ax.scatter(ptOnSphere[0],ptOnSphere[1],ptOnSphere[2],marker='.',color='red')\n",
    "\n",
    "\n",
    "ntests = np.array(ntests)\n",
    "print(stats.describe(ntests))\n",
    "\n",
    "\n",
    "ax.set_xlabel(r'$X$', fontsize=20)\n",
    "ax.set_ylabel(r'$Y$', fontsize=20)\n",
    "ax.set_zlabel(r'$Z$', fontsize=20)\n",
    "ax.set_xlim3d([-1,1])\n",
    "ax.set_ylim3d([-1,1])\n",
    "ax.set_zlim3d([-1,1])\n",
    "plt.show()"
   ]
  },
  {
   "cell_type": "code",
   "execution_count": 84,
   "metadata": {},
   "outputs": [
    {
     "data": {
      "text/plain": [
       "array([3, 3, 3, ..., 2, 3, 2])"
      ]
     },
     "execution_count": 84,
     "metadata": {},
     "output_type": "execute_result"
    }
   ],
   "source": [
    "ntests"
   ]
  },
  {
   "cell_type": "code",
   "execution_count": 85,
   "metadata": {},
   "outputs": [
    {
     "data": {
      "text/plain": [
       "(array([ 175.,    0.,    0.,    0.,    0., 2560.,    0.,    0.,    0.,\n",
       "        2309.]),\n",
       " array([2. , 2.2, 2.4, 2.6, 2.8, 3. , 3.2, 3.4, 3.6, 3.8, 4. ]),\n",
       " <a list of 10 Patch objects>)"
      ]
     },
     "execution_count": 85,
     "metadata": {},
     "output_type": "execute_result"
    }
   ],
   "source": [
    "plt.hist(ntests)"
   ]
  },
  {
   "cell_type": "code",
   "execution_count": 87,
   "metadata": {},
   "outputs": [],
   "source": [
    "plt.show()"
   ]
  },
  {
   "cell_type": "code",
   "execution_count": 96,
   "metadata": {},
   "outputs": [],
   "source": [
    "icoTriangs= getIcoTriangs(modif=True)\n",
    "icoPoints = getIcosaedreVertices()\n",
    " \n",
    "#vertices for Face 0\n",
    "icoVertices0 = icoPoints[icoTriangs[0]]\n"
   ]
  },
  {
   "cell_type": "code",
   "execution_count": 97,
   "metadata": {},
   "outputs": [
    {
     "data": {
      "text/plain": [
       "array([[-5.55111512e-17, -0.00000000e+00,  1.00000000e+00],\n",
       "       [ 8.94427191e-01, -0.00000000e+00,  4.47213595e-01],\n",
       "       [ 2.76393202e-01,  8.50650808e-01,  4.47213595e-01]])"
      ]
     },
     "execution_count": 97,
     "metadata": {},
     "output_type": "execute_result"
    }
   ],
   "source": [
    "icoVertices0"
   ]
  },
  {
   "cell_type": "code",
   "execution_count": 99,
   "metadata": {},
   "outputs": [
    {
     "data": {
      "text/plain": [
       "0"
      ]
     },
     "execution_count": 99,
     "metadata": {},
     "output_type": "execute_result"
    }
   ],
   "source": [
    "icoTriangs[0][0]"
   ]
  },
  {
   "cell_type": "code",
   "execution_count": null,
   "metadata": {},
   "outputs": [],
   "source": []
  }
 ],
 "metadata": {
  "kernelspec": {
   "display_name": "Python 3",
   "language": "python",
   "name": "python3"
  },
  "language_info": {
   "codemirror_mode": {
    "name": "ipython",
    "version": 3
   },
   "file_extension": ".py",
   "mimetype": "text/x-python",
   "name": "python",
   "nbconvert_exporter": "python",
   "pygments_lexer": "ipython3",
   "version": "3.7.1"
  }
 },
 "nbformat": 4,
 "nbformat_minor": 4
}
