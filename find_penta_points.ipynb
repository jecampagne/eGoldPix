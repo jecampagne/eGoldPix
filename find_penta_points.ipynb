{
 "cells": [
  {
   "cell_type": "code",
   "execution_count": 2,
   "metadata": {},
   "outputs": [
    {
     "name": "stdout",
     "output_type": "stream",
     "text": [
      "Using matplotlib backend: TkAgg\n"
     ]
    }
   ],
   "source": [
    "import numpy as np\n",
    "import matplotlib.pyplot as plt\n",
    "from mpl_toolkits.mplot3d import Axes3D  # noqa: F401 unused import\n",
    "from mpl_toolkits.mplot3d.art3d import Poly3DCollection\n",
    "import matplotlib.cm as cm\n",
    "\n",
    "from math import sin,cos,acos,sqrt,pi, atan2\n",
    "\n",
    "import pandas as pd\n",
    "\n",
    "%matplotlib"
   ]
  },
  {
   "cell_type": "code",
   "execution_count": null,
   "metadata": {},
   "outputs": [],
   "source": [
    "self.xoff7+i*1/n+j*1/(2*n), self.yoff7+j*sqrt(3)/(2*n)"
   ]
  },
  {
   "cell_type": "code",
   "execution_count": 36,
   "metadata": {},
   "outputs": [],
   "source": [
    "def xycent(xoff7,yoff7,i,j,n):\n",
    "    return xoff7+i/n+j/(2*n), yoff7+j*sqrt(3)/(2*n)"
   ]
  },
  {
   "cell_type": "code",
   "execution_count": 37,
   "metadata": {},
   "outputs": [],
   "source": [
    "def barycentricCoords(p):\n",
    "    '''\n",
    "        input: 'p'is are the position vector of the form [x,y]'. \n",
    "        output: l1,l2,l3 are the barycentric co-ordsinates.\n",
    "    \n",
    "        ex:\n",
    "        barycentricCoords([1,2])\n",
    "        (-1.6547005383792517, 0.3452994616207483, 2.3094010767585034)\n",
    "        \n",
    "        D'une maniere generale\n",
    "        p1=(x1,y1), p2=(x2,y2) p3=(x3,y3)\n",
    "        T= [[x1-x3,x2-x3],[y1-y3,y2-y3]]\n",
    "        (l1,l2) = T^(-1) . ( (x,y)-p3 )\n",
    "        l3 = 1-l2-l3\n",
    "    '''\n",
    "    x,y = p[0],p[1]\n",
    "    # l3*sqrt(3)/2 = y\n",
    "    l3 = y*2./sqrt(3.)\n",
    "    # l1 + l2 + l3 = 1\n",
    "    # 0.5*(l2 - l1) = x\n",
    "    l2 = x + 0.5*(1 - l3)\n",
    "    l1 = 1 - l2 - l3\n",
    "    return l1,l2,l3"
   ]
  },
  {
   "cell_type": "code",
   "execution_count": 38,
   "metadata": {},
   "outputs": [
    {
     "data": {
      "text/plain": [
       "array([[ 0,  1,  2],\n",
       "       [ 0,  2,  3],\n",
       "       [ 0,  3,  4],\n",
       "       [ 0,  4,  5],\n",
       "       [ 0,  5,  1],\n",
       "       [ 6,  7,  8],\n",
       "       [ 6,  8,  9],\n",
       "       [ 6,  9, 10],\n",
       "       [ 6, 10, 11],\n",
       "       [ 6, 11,  7],\n",
       "       [ 1,  2,  9],\n",
       "       [ 2,  3,  8],\n",
       "       [ 3,  4,  7],\n",
       "       [ 4,  5, 11],\n",
       "       [ 5,  1, 10],\n",
       "       [ 1,  9, 10],\n",
       "       [ 2,  8,  9],\n",
       "       [ 3,  7,  8],\n",
       "       [ 4, 11,  7],\n",
       "       [ 5, 10, 11]])"
      ]
     },
     "execution_count": 38,
     "metadata": {},
     "output_type": "execute_result"
    }
   ],
   "source": [
    "icoTriangs = [(0,i+1,(i+1)%5+1) for i in range(5)] +\\\n",
    "             [(6,i+7,(i+1)%5+7) for i in range(5)] +\\\n",
    "             [(i+1,(i+1)%5+1,(7-i)%5+7) for i in range(5)] +\\\n",
    "             [(i+1,(7-i)%5+7,(8-i)%5+7) for i in range(5)]\n",
    "icoTriangs=np.array(icoTriangs)\n",
    "icoTriangs"
   ]
  },
  {
   "cell_type": "code",
   "execution_count": 39,
   "metadata": {},
   "outputs": [],
   "source": [
    "def scalProd(p1,p2):\n",
    "    '''\n",
    "        input: p1 and p2 are the vetors of form [x0,x1,...,xn]'\n",
    "        output: is the scalar product of p1 and p2.\n",
    "    '''\n",
    "    return sum([p1[i]*p2[i] for i in range(len(p1))])"
   ]
  },
  {
   "cell_type": "code",
   "execution_count": 40,
   "metadata": {},
   "outputs": [],
   "source": [
    "def slerp(p0,p1,t):\n",
    "    '''\n",
    "        program outputs the spherical linear interpolation \n",
    "        of arc defined by p0, p1(around origin).  \n",
    "        \n",
    "        input: t=0 -> p0, t=1 -> p1. \n",
    "                p0 and p1 are the vetors of form [x,y,z]\n",
    "        \n",
    "        output: interpolated coordinates.\n",
    "        \n",
    "        https://en.wikipedia.org/wiki/Slerp\n",
    "        \n",
    "    '''\n",
    "    assert abs(scalProd(p0,p0) - scalProd(p1,p1)) < 1e-7\n",
    "    ang0Cos = scalProd(p0,p1)/scalProd(p0,p0)\n",
    "    ang0Sin = sqrt(1 - ang0Cos*ang0Cos)\n",
    "    ang0 = atan2(ang0Sin,ang0Cos)\n",
    "    l0 = sin((1-t)*ang0)\n",
    "    l1 = sin(t    *ang0)\n",
    "    return np.array([(l0*p0[i] + l1*p1[i])/ang0Sin for i in range(len(p0))])"
   ]
  },
  {
   "cell_type": "code",
   "execution_count": 41,
   "metadata": {},
   "outputs": [],
   "source": [
    "# map 2D point p to spherical triangle s1,s2,s3 (3D vectors of equal length)\n",
    "def mapGridpoint2Sogere(p,s1,s2,s3):\n",
    "    '''\n",
    "        program outputs the coordinate array of the projection of the input\n",
    "        coordinates on the unit sphere.   \n",
    "        inputs:\n",
    "            - 'p' is the coordinate array of the planer verticies of the closed \n",
    "                shape to be projected in the form [x,y,z]'.\n",
    "            - 's1','s2' and 's3' are the vectors defining plane of the co-ordinates \n",
    "                to be projected. \n",
    "        output: is the coordinate array of the projected face on the unit sphere.\n",
    "        \n",
    "        ex. mapGidpoint2Sogere([0,0.5,0.5],[1,0,0]',[0,1,0]',[0,0,1]')\n",
    "    '''\n",
    "    l1,l2,l3 = barycentricCoords(p)\n",
    "    if abs(l3-1) < 1e-10: return s3\n",
    "    l2s = l2/(l1+l2)\n",
    "    p12 = slerp(s1,s2,l2s)\n",
    "    return slerp(p12,s3,l3)"
   ]
  },
  {
   "cell_type": "code",
   "execution_count": 42,
   "metadata": {},
   "outputs": [],
   "source": [
    "def getProjectedPt(p,icoPoints,u,v,w):\n",
    "    \"\"\"\n",
    "    p: 2D point location\n",
    "    \"\"\"\n",
    "    return mapGridpoint2Sogere(p,\n",
    "                                icoPoints[u,:],\n",
    "                                icoPoints[v,:],\n",
    "                                icoPoints[w,:])"
   ]
  },
  {
   "cell_type": "code",
   "execution_count": 43,
   "metadata": {},
   "outputs": [],
   "source": [
    "def getIcosaedreVertices():\n",
    "    \"\"\"\n",
    "        outputs location of the icosaedre vertices 3D points\n",
    "    \"\"\"\n",
    "    #golden ratio\n",
    "    phi = 0.5*(1+sqrt(5)) \n",
    "    \n",
    "    topPoints = \\\n",
    "        [(phi,1,0)]+\\\n",
    "        [(phi,-1,0)]+\\\n",
    "        [(1,0,-phi)]+\\\n",
    "        [(0,phi,-1)]+\\\n",
    "        [(0,phi,1)]+\\\n",
    "        [(1,0,phi)]\n",
    "    \n",
    "    topPoints = np.array(topPoints)\n",
    "    # rot clockwise arround Z pour amener le point 1 en position (1,0,0)\n",
    "    sinth = 1/sqrt(1+phi**2)\n",
    "    costh = phi*sinth\n",
    "    scale = 1/sqrt(1+phi**2)\n",
    "    rot_mat = scale*np.array([[costh,sinth,0],\n",
    "                        [-sinth, costh,0],\n",
    "                        [0,0,1]])\n",
    "    \n",
    "    for i in range(len(topPoints)):\n",
    "        topPoints[i,:] = np.matmul(rot_mat,topPoints[i,:])\n",
    "\n",
    "    # change de repere\n",
    "    # X' = -Y, Y'=-Z, Z'=X\n",
    "    tmp = np.zeros_like(topPoints)\n",
    "    for i in range(topPoints.shape[0]):\n",
    "        tmp[i,0] = -topPoints[i,1]\n",
    "        tmp[i,1] = -topPoints[i,2]\n",
    "        tmp[i,2] =  topPoints[i,0]\n",
    "    topPoints = tmp\n",
    "    \n",
    "    # points du bas de l'icosaedre\n",
    "    bottomPoints = np.zeros_like(topPoints)\n",
    "    for i in range(bottomPoints.shape[0]):\n",
    "        bottomPoints[i,0] = -topPoints[i,0]\n",
    "        bottomPoints[i,1] =  topPoints[i,1]\n",
    "        bottomPoints[i,2] = -topPoints[i,2]\n",
    "\n",
    "    # icosaedre vertices\n",
    "    icoPoints=np.vstack((topPoints,bottomPoints))\n",
    "    \n",
    "    #return\n",
    "    return icoPoints"
   ]
  },
  {
   "cell_type": "code",
   "execution_count": 44,
   "metadata": {},
   "outputs": [],
   "source": [
    "icoPoints = getIcosaedreVertices()"
   ]
  },
  {
   "cell_type": "code",
   "execution_count": 45,
   "metadata": {},
   "outputs": [
    {
     "data": {
      "text/plain": [
       "array([[-5.55111512e-17, -0.00000000e+00,  1.00000000e+00],\n",
       "       [ 8.94427191e-01, -0.00000000e+00,  4.47213595e-01],\n",
       "       [ 2.76393202e-01,  8.50650808e-01,  4.47213595e-01],\n",
       "       [-7.23606798e-01,  5.25731112e-01,  4.47213595e-01],\n",
       "       [-7.23606798e-01, -5.25731112e-01,  4.47213595e-01],\n",
       "       [ 2.76393202e-01, -8.50650808e-01,  4.47213595e-01],\n",
       "       [ 5.55111512e-17, -0.00000000e+00, -1.00000000e+00],\n",
       "       [-8.94427191e-01, -0.00000000e+00, -4.47213595e-01],\n",
       "       [-2.76393202e-01,  8.50650808e-01, -4.47213595e-01],\n",
       "       [ 7.23606798e-01,  5.25731112e-01, -4.47213595e-01],\n",
       "       [ 7.23606798e-01, -5.25731112e-01, -4.47213595e-01],\n",
       "       [-2.76393202e-01, -8.50650808e-01, -4.47213595e-01]])"
      ]
     },
     "execution_count": 45,
     "metadata": {},
     "output_type": "execute_result"
    }
   ],
   "source": [
    "icoPoints"
   ]
  },
  {
   "cell_type": "code",
   "execution_count": 46,
   "metadata": {},
   "outputs": [],
   "source": [
    "xoff7=-1/2\n",
    "yoff7=0\n",
    "n=4\n",
    "scale = 1/(n*sqrt(3))\n",
    "fact=0\n",
    "tol=10**(-6)"
   ]
  },
  {
   "cell_type": "code",
   "execution_count": 88,
   "metadata": {},
   "outputs": [],
   "source": [
    "#i,j,th,cas\n",
    "cases=np.array([\n",
    "#    [0,1,-2*pi/3,3],\n",
    "#    [1,n-1,2*pi/3,3],\n",
    "#    [n-1,0,0.,3],\n",
    "    [0,n-1,-2*pi/3,4],\n",
    "    [n-1,1,2*pi/3,4],\n",
    "    [1,0,0.,4]\n",
    "])\n",
    "#cases[0,0],cases[0,1],cases[0,2],cases[0,3] =  expand(xycent(xoff7,yoff7,0,1,n),(-2*pi/3,3))\n",
    "#cases[1,0],cases[1,1],cases[1,2],cases[1,3] =  expand(xycent(xoff7,yoff7,1,n-1,n),(2*pi/3,3))\n",
    "#cases[2,0],cases[2,1],cases[2,2],cases[2,3] =  expand(xycent(xoff7,yoff7,n-1,0,n),(0,3))\n",
    "#cases[0,0],cases[0,1],cases[0,2],cases[0,3] =  expand(xycent(xoff7,yoff7,0,n-1,n),(-2*pi/3,4))\n",
    "#cases[0,0],cases[0,1],cases[0,2],cases[0,3] =  expand(xycent(xoff7,yoff7,n-1,1,n),(2*pi/3,4))\n",
    "#cases[0,0],cases[0,1],cases[0,2],cases[0,3] =  expand(xycent(xoff7,yoff7,1,0,n),(0,4))"
   ]
  },
  {
   "cell_type": "code",
   "execution_count": 102,
   "metadata": {},
   "outputs": [
    {
     "name": "stdout",
     "output_type": "stream",
     "text": [
      "0 ['black', array([ 0.72213888, -0.40207799, -0.56289317]), 0]\n",
      "1 ['black', array([ 0.7216169 ,  0.41719879, -0.55246196]), 1]\n",
      "2 ['black', array([ 0.15074435,  0.00243561, -0.98856978]), 2]\n",
      "3 ['red', array([-0.15924571, -0.81104382, -0.56289317]), 0]\n",
      "4 ['red', array([ 0.61977152, -0.55737694, -0.55246196]), 1]\n",
      "5 ['red', array([ 0.04889897, -0.14261375, -0.98856978]), 2]\n",
      "6 ['blue', array([-0.12702191, -0.91021848, -0.39416717]), 0]\n",
      "7 ['blue', array([ 0.64920136, -0.64795269, -0.39836528]), 1]\n",
      "8 ['blue', array([ 0.29638272, -0.90429044,  0.307272  ]), 2]\n",
      "9 ['green', array([ 0.77427808, -0.56254596, -0.28988877]), 0]\n",
      "10 ['green', array([ 0.90400012, -0.14411904,  0.40250898]), 1]\n",
      "11 ['green', array([ 0.41641675, -0.81521997,  0.40250898]), 2]\n",
      "12 ['darkred', array([ 0.82641728, -0.40207799, -0.39416717]), 0]\n",
      "13 ['darkred', array([ 0.81685388,  0.41719879, -0.39836528]), 1]\n",
      "14 ['darkred', array([0.95161861, 0.00243561, 0.307272  ]), 2]\n"
     ]
    }
   ],
   "source": [
    "#pentaBuild=pd.DataFrame(columns=['idx','face','xyc','th','type'])\n",
    "\n",
    "colors = ['black','red','blue','green','darkred','deepskyblue','forestgreen']\n",
    "#idx0 = [0,1,11,16,10]\n",
    "#idx0 = [1,2,12,17,11]\n",
    "#idx0 = [2,3,13,18,12]\n",
    "#idx0 = [3,4,14,19,13]\n",
    "#idx0 = [4,0,10,15,14]\n",
    "#idx0 = [6,7,15,10,16]\n",
    "#idx0 = [5,6,16,11,17]\n",
    "#idx0 = [9,5,17,12,18]\n",
    "#idx0 = [8,9,18,13,19]\n",
    "idx0 = [7,8,19,14,15]\n",
    "infos=[]\n",
    "for ik,k in enumerate(idx0):\n",
    "    for iacas,acas in enumerate(cases):\n",
    "        a = icoTriangs[k,0]\n",
    "        b = icoTriangs[k,1]\n",
    "        c = icoTriangs[k,2]\n",
    "#        print(k,a,b,c)\n",
    "        th = acas[2]\n",
    "        xc,yc = xycent(xoff7,yoff7,acas[0],acas[1],n)\n",
    "        if acas[3] == 3:\n",
    "            pt2d = np.array([sqrt(3)/2-fact,1/2+fact/sqrt(3)]) # type 3 \n",
    "        else:\n",
    "            pt2d = np.array([-sqrt(3)/2+fact,1/2+fact/sqrt(3)]) # type 4 \n",
    "\n",
    "        rot_mat = scale * np.array([[np.cos(th), -np.sin(th)],\n",
    "                                    [np.sin(th), np.cos(th)]])\n",
    "        pt2d = np.matmul(rot_mat,pt2d)\n",
    "        pt2d[0] += xc\n",
    "        pt2d[1] += yc\n",
    "        infos.append([colors[ik],getProjectedPt(pt2d,icoPoints,a,b,c),iacas])\n",
    "\n",
    "#########\n",
    "fig = plt.figure()\n",
    "ax = Axes3D(fig)\n",
    "ax.set_xlabel(r'$X$', fontsize=20)\n",
    "ax.set_ylabel(r'$Y$', fontsize=20)\n",
    "ax.set_zlabel(r'$Z$', fontsize=20)    \n",
    "\n",
    "for ik,i in enumerate(infos):\n",
    "#    ax.scatter(i[0],i[1],i[2],marker='o',s=15,color=\"k\")\n",
    "    ax.text(i[1][0],i[1][1],i[1][2],'%s' % (str(ik)), \n",
    "                            size=15, zorder=1, color=str(i[0]))\n",
    "    print(ik,i)\n",
    "\n",
    "ax.set_xlim([-1,1])\n",
    "ax.set_ylim([-1,1])\n",
    "ax.set_zlim([-1,1])\n",
    "plt.show()\n"
   ]
  },
  {
   "cell_type": "code",
   "execution_count": null,
   "metadata": {},
   "outputs": [],
   "source": []
  },
  {
   "cell_type": "code",
   "execution_count": null,
   "metadata": {},
   "outputs": [],
   "source": []
  }
 ],
 "metadata": {
  "kernelspec": {
   "display_name": "Python 3",
   "language": "python",
   "name": "python3"
  },
  "language_info": {
   "codemirror_mode": {
    "name": "ipython",
    "version": 3
   },
   "file_extension": ".py",
   "mimetype": "text/x-python",
   "name": "python",
   "nbconvert_exporter": "python",
   "pygments_lexer": "ipython3",
   "version": "3.7.1"
  }
 },
 "nbformat": 4,
 "nbformat_minor": 4
}
